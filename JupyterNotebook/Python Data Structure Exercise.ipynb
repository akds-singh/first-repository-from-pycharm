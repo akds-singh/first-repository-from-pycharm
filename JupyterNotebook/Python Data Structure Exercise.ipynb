{
 "cells": [
  {
   "cell_type": "markdown",
   "source": [
    "Exercise 2: Remove and add item in a list"
   ],
   "metadata": {
    "collapsed": false
   }
  },
  {
   "cell_type": "code",
   "execution_count": null,
   "metadata": {
    "collapsed": true
   },
   "outputs": [],
   "source": [
    "list1 = [54, 44, 27, 79, 91, 41]\n",
    "element_4 = list1.pop(4)\n",
    "print(\"List After removing element at index 4:\",list1 )\n",
    "\n",
    "list1.insert(2, element_4)\n",
    "print(\"List after Adding element at index 2\", list1)\n",
    "\n",
    "list1.append(element_4)\n",
    "print(\"List after Adding element at last:\", list1)"
   ]
  },
  {
   "cell_type": "markdown",
   "source": [
    "Exercise 3: Slice list into 3 equal chunks and reverse each chunk"
   ],
   "metadata": {
    "collapsed": false
   }
  },
  {
   "cell_type": "code",
   "execution_count": null,
   "outputs": [],
   "source": [
    "sample_list = [11, 45, 8, 23, 14, 12, 78, 45, 89]\n",
    "\n",
    "one_third_part = int(len(sample_list) / 3)\n",
    "\n",
    "chunk_1 = sample_list[0:one_third_part]\n",
    "print(chunk_1)\n",
    "rev_chink_1 = chunk_1[::-1]\n",
    "print(rev_chink_1)\n",
    "\n",
    "chunk_2 = sample_list[one_third_part:one_third_part*2]\n",
    "print(chunk_2)\n",
    "rev_chink_2 = chunk_2[::-1]\n",
    "print(rev_chink_2)\n",
    "\n",
    "chunk_3 = sample_list[one_third_part*2:one_third_part*3]\n",
    "print(chunk_3)\n",
    "rev_chink_3 = chunk_3[::-1]\n",
    "print(rev_chink_3)\n"
   ],
   "metadata": {
    "collapsed": false
   }
  },
  {
   "cell_type": "code",
   "execution_count": null,
   "outputs": [],
   "source": [
    "sample_list = [11, 45, 8, 23, 14, 12, 78, 45, 89]\n",
    "print(\"Original list \", sample_list)\n",
    "\n",
    "length = len(sample_list)\n",
    "chunk_size = int(length / 3)\n",
    "start = 0\n",
    "end = chunk_size\n",
    "\n",
    "# run loop 3 times\n",
    "for i in range(3):\n",
    "    # get indexes\n",
    "    indexes = slice(start, end)\n",
    "    print(indexes)\n",
    "    print(type(indexes))\n",
    "\n",
    "    # get chunk\n",
    "    list_chunk = sample_list[indexes]\n",
    "    print(\"Chunk \", i, list_chunk)\n",
    "\n",
    "    # reverse chunk\n",
    "    print(\"After reversing it \", list(reversed(list_chunk)))\n",
    "\n",
    "    start = end\n",
    "    end += chunk_size\n"
   ],
   "metadata": {
    "collapsed": false
   }
  }
 ],
 "metadata": {
  "kernelspec": {
   "display_name": "Python 3",
   "language": "python",
   "name": "python3"
  },
  "language_info": {
   "codemirror_mode": {
    "name": "ipython",
    "version": 2
   },
   "file_extension": ".py",
   "mimetype": "text/x-python",
   "name": "python",
   "nbconvert_exporter": "python",
   "pygments_lexer": "ipython2",
   "version": "2.7.6"
  }
 },
 "nbformat": 4,
 "nbformat_minor": 0
}
