{
 "cells": [
  {
   "cell_type": "markdown",
   "source": [
    "Exercise 2: Remove and add item in a list"
   ],
   "metadata": {
    "collapsed": false
   }
  },
  {
   "cell_type": "code",
   "execution_count": null,
   "metadata": {
    "collapsed": true
   },
   "outputs": [],
   "source": [
    "list1 = [54, 44, 27, 79, 91, 41]\n",
    "element_4 = list1.pop(4)\n",
    "print(\"List After removing element at index 4:\",list1 )\n",
    "\n",
    "list1.insert(2, element_4)\n",
    "print(\"List after Adding element at index 2\", list1)\n",
    "\n",
    "list1.append(element_4)\n",
    "print(\"List after Adding element at last:\", list1)"
   ]
  },
  {
   "cell_type": "markdown",
   "source": [
    "Exercise 3: Slice list into 3 equal chunks and reverse each chunk"
   ],
   "metadata": {
    "collapsed": false
   }
  },
  {
   "cell_type": "code",
   "execution_count": null,
   "outputs": [],
   "source": [
    "sample_list = [11, 45, 8, 23, 14, 12, 78, 45, 89]\n",
    "\n",
    "one_third_part = int(len(sample_list) / 3)\n",
    "\n",
    "chunk_1 = sample_list[0:one_third_part]\n",
    "print(chunk_1)\n",
    "rev_chink_1 = chunk_1[::-1]\n",
    "print(rev_chink_1)\n",
    "\n",
    "chunk_2 = sample_list[one_third_part:one_third_part*2]\n",
    "print(chunk_2)\n",
    "rev_chink_2 = chunk_2[::-1]\n",
    "print(rev_chink_2)\n",
    "\n",
    "chunk_3 = sample_list[one_third_part*2:one_third_part*3]\n",
    "print(chunk_3)\n",
    "rev_chink_3 = chunk_3[::-1]\n",
    "print(rev_chink_3)\n"
   ],
   "metadata": {
    "collapsed": false
   }
  },
  {
   "cell_type": "code",
   "execution_count": null,
   "outputs": [],
   "source": [
    "sample_list = [11, 45, 8, 23, 14, 12, 78, 45, 89]\n",
    "print(\"Original list \", sample_list)\n",
    "\n",
    "length = len(sample_list)\n",
    "chunk_size = int(length / 3)\n",
    "start = 0\n",
    "end = chunk_size\n",
    "\n",
    "# run loop 3 times\n",
    "for i in range(3):\n",
    "    # get indexes\n",
    "    indexes = slice(start, end)\n",
    "    print(indexes)\n",
    "    print(type(indexes))\n",
    "\n",
    "    # get chunk\n",
    "    list_chunk = sample_list[indexes]\n",
    "    print(\"Chunk \", i, list_chunk)\n",
    "\n",
    "    # reverse chunk\n",
    "    print(\"After reversing it \", list(reversed(list_chunk)))\n",
    "\n",
    "    start = end\n",
    "    end += chunk_size\n"
   ],
   "metadata": {
    "collapsed": false
   }
  },
  {
   "cell_type": "markdown",
   "source": [],
   "metadata": {
    "collapsed": false
   }
  },
  {
   "cell_type": "markdown",
   "source": [
    "Exercise 4: Count the occurrence of each element from a list"
   ],
   "metadata": {
    "collapsed": false
   }
  },
  {
   "cell_type": "code",
   "execution_count": null,
   "outputs": [],
   "source": [
    "sample_list = [11, 45, 8, 11, 23, 45, 23, 45, 89]\n",
    "\n",
    "count = 0\n",
    "sample_list.count(11)\n",
    "dict1= {}\n",
    "for element in sample_list:\n",
    "    dict1[element] = sample_list.count(element)\n",
    "\n",
    "print(dict1)"
   ],
   "metadata": {
    "collapsed": false
   }
  },
  {
   "cell_type": "markdown",
   "source": [
    "Exercise 5: Create a Python set such that it shows the element from both lists in a pair"
   ],
   "metadata": {
    "collapsed": false
   }
  },
  {
   "cell_type": "code",
   "execution_count": null,
   "outputs": [],
   "source": [
    "first_list = [2, 3, 4, 5, 6, 7, 8]\n",
    "second_list = [4, 9, 16, 25, 36, 49, 64]\n",
    "\n",
    "\n",
    "res = set(zip(first_list, second_list))\n",
    "\n",
    "print(res)"
   ],
   "metadata": {
    "collapsed": false
   }
  },
  {
   "cell_type": "code",
   "execution_count": null,
   "outputs": [],
   "source": [
    "list(zip(range(3), ['fee', 'fi', 'fo', 'fum']))\n"
   ],
   "metadata": {
    "collapsed": false
   }
  },
  {
   "cell_type": "code",
   "execution_count": null,
   "outputs": [],
   "source": [
    "for item in list(zip(range(3), ['fee', 'fi', 'fo', 'fum'], strict=False)):\n",
    "    print(item)"
   ],
   "metadata": {
    "collapsed": false
   }
  },
  {
   "cell_type": "code",
   "execution_count": null,
   "outputs": [],
   "source": [
    "book_set = {\"Harry Potter\", \"Angels and Demons\", \"Atlas Shrugged\"}\n",
    "for book in book_set:\n",
    "    print(book)"
   ],
   "metadata": {
    "collapsed": false
   }
  },
  {
   "cell_type": "code",
   "execution_count": null,
   "outputs": [],
   "source": [
    "book_set = {\"Harry Potter\", \"Angels and Demons\", \"Atlas Shrugged\"}\n",
    "for book in book_set:\n",
    "    print(book)"
   ],
   "metadata": {
    "collapsed": false
   }
  },
  {
   "cell_type": "code",
   "execution_count": null,
   "outputs": [],
   "source": [
    "color_set = {'violet', 'blue', 'green', 'yellow'}\n",
    "\n",
    "# creating a copy using copy()\n",
    "color_set2 = color_set.copy()\n",
    "\n",
    "# creating a copy using set()\n",
    "color_set3 = set(color_set)\n",
    "\n",
    "# creating a copy using = operator\n",
    "color_set4 = color_set\n",
    "\n",
    "# printing the original and new copies\n",
    "print('Original set:', color_set)\n",
    "\n",
    "# {'violet', 'green', 'yellow', 'blue'}\n",
    "\n",
    "print('Copy using copy():', color_set2)\n",
    "# {'green', 'yellow', 'blue', 'violet'}\n",
    "\n",
    "print('Copy using set(): ', color_set3)\n",
    "# {'green', 'yellow', 'blue', 'violet'}\n",
    "\n",
    "print('Copy using assignment', color_set4)\n",
    "# {'green', 'yellow', 'blue', 'violet'}\n",
    "print('Original set:', color_set)"
   ],
   "metadata": {
    "collapsed": false
   }
  },
  {
   "cell_type": "code",
   "execution_count": null,
   "outputs": [],
   "source": [
    "rainbow = ('violet', 'indigo', 'blue', 'green', 'yellow', 'orange', 'red')\n",
    "other_colors = ('white', 'black', 'pink')\n",
    "\n",
    "nested_set = set((frozenset(rainbow), frozenset(other_colors)))\n",
    "\n",
    "for sample_set in nested_set:\n",
    "    print(sample_set)"
   ],
   "metadata": {
    "collapsed": false
   }
  },
  {
   "cell_type": "markdown",
   "source": [
    "Exercise 6: Find the intersection (common) of two sets and remove those elements from the first set"
   ],
   "metadata": {
    "collapsed": false
   }
  },
  {
   "cell_type": "code",
   "execution_count": null,
   "outputs": [],
   "source": [
    "first_set = {23, 42, 65, 57, 78, 83, 29}\n",
    "second_set = {57, 83, 29, 67, 73, 43, 48}\n",
    "\n",
    "common_element = first_set.intersection(second_set)\n",
    "\n",
    "# print(first_set.pop())\n",
    "#\n",
    "# print(common_element)\n",
    "#\n",
    "# first_set.difference_update(common_element)\n",
    "#\n",
    "# print(first_set)\n",
    "# print(first_set1)\n",
    "print(common_element)\n",
    "for element in common_element:\n",
    "    first_set.remove(element)\n",
    "print(first_set)"
   ],
   "metadata": {
    "collapsed": false
   }
  },
  {
   "cell_type": "code",
   "execution_count": null,
   "outputs": [],
   "source": [],
   "metadata": {
    "collapsed": false
   }
  },
  {
   "cell_type": "markdown",
   "source": [
    "Exercise 7: Checks if one set is a subset or superset of another set. If found, delete all elements from that set"
   ],
   "metadata": {
    "collapsed": false
   }
  },
  {
   "cell_type": "code",
   "execution_count": null,
   "outputs": [],
   "source": [
    "first_set = {27, 43, 34}\n",
    "second_set = {34, 93, 22, 27, 43, 53, 48}\n",
    "\n",
    "\n",
    "print(\"First set is subset of second set:\", first_set.issubset(second_set))\n",
    "print(\"Second set is subset of first set:\", second_set.issubset(first_set))\n",
    "\n",
    "print(\"First set is superset of second set:\", first_set.issuperset(second_set))\n",
    "print(\"Second set is superset of first set:\", second_set.issuperset(first_set))\n",
    "\n",
    "same_element = first_set.intersection(second_set)\n",
    "\n",
    "print(\"second_set:\", second_set - same_element)\n",
    "print(\"first_set: \", first_set - same_element)"
   ],
   "metadata": {
    "collapsed": false
   }
  },
  {
   "cell_type": "code",
   "execution_count": null,
   "outputs": [],
   "source": [
    "first_set = {57, 83, 29}\n",
    "second_set = {57, 83, 29, 67, 73, 43, 48}\n",
    "\n",
    "print(\"First Set \", first_set)\n",
    "print(\"Second Set \", second_set)\n",
    "\n",
    "print(\"First set is subset of second set -\", first_set.issubset(second_set))\n",
    "print(\"Second set is subset of First set - \", second_set.issubset(first_set))\n",
    "\n",
    "print(\"First set is Super set of second set - \", first_set.issuperset(second_set))\n",
    "print(\"Second set is Super set of First set - \", second_set.issuperset(first_set))\n",
    "\n",
    "if first_set.issubset(second_set):\n",
    "    first_set.clear()\n",
    "\n",
    "if second_set.issubset(first_set):\n",
    "    second_set.clear()\n",
    "\n",
    "print(\"First Set \", first_set)\n",
    "print(\"Second Set \", second_set)"
   ],
   "metadata": {
    "collapsed": false
   }
  },
  {
   "cell_type": "markdown",
   "source": [],
   "metadata": {
    "collapsed": false
   }
  },
  {
   "cell_type": "markdown",
   "source": [
    "Exercise 8: Iterate a given list and check if a given element exists as a key’s value in a dictionary. If not, delete it from the list"
   ],
   "metadata": {
    "collapsed": false
   }
  },
  {
   "cell_type": "code",
   "execution_count": null,
   "outputs": [],
   "source": [
    "roll_number = [47, 64, 69, 37, 76, 83, 95, 97, 45, 876, 876, 64, 65]\n",
    "roll_number = set(roll_number)\n",
    "sample_dict = {'Jhon':47, 'Emma':69, 'Kelly':76, 'Jason':97}\n",
    "\n",
    "for element in set(roll_number):\n",
    "    for key in sample_dict:\n",
    "        if element == sample_dict[key]:\n",
    "            break\n",
    "    else:\n",
    "        roll_number.remove(element)\n",
    "\n",
    "print(roll_number)"
   ],
   "metadata": {
    "collapsed": false
   }
  },
  {
   "cell_type": "code",
   "execution_count": null,
   "outputs": [],
   "source": [
    "print(roll_number)\n",
    "\n",
    "for i in roll_number:\n",
    "    print(i)"
   ],
   "metadata": {
    "collapsed": false
   }
  },
  {
   "cell_type": "code",
   "execution_count": null,
   "outputs": [],
   "source": [
    "roll_number = [47, 64, 69, 37, 76, 83, 95, 97, 45, 876, 876, 64, 65]\n",
    "sample_set = set()\n",
    "for key in sample_dict:\n",
    "    sample_set.add(sample_dict[key])\n",
    "\n",
    "print(sample_set)\n",
    "\n",
    "roll_number_set = set(roll_number)\n",
    "print(roll_number_set)\n",
    "\n",
    "result_set = roll_number_set.intersection(sample_set)\n",
    "result_set = list(result_set)\n",
    "print(result_set)"
   ],
   "metadata": {
    "collapsed": false
   }
  },
  {
   "cell_type": "code",
   "execution_count": null,
   "outputs": [],
   "source": [
    "roll_number = [47, 64, 69, 37, 76, 83, 95, 97]\n",
    "sample_dict = {'Jhon': 47, 'Emma': 69, 'Kelly': 76, 'Jason': 97}\n",
    "\n",
    "print(\"List:\", roll_number)\n",
    "print(\"Dictionary:\", sample_dict)\n",
    "\n",
    "# create new list\n",
    "roll_number[:] = [item for item in roll_number if item in sample_dict.values()]\n",
    "print(\"after removing unwanted elements from list:\", roll_number)\n"
   ],
   "metadata": {
    "collapsed": false
   }
  },
  {
   "cell_type": "code",
   "execution_count": null,
   "outputs": [],
   "source": [
    "speed = {'jan': 47, 'feb': 52, 'march': 47, 'April': 44, 'May': 52, 'June': 53, 'july': 54, 'Aug': 44, 'Sept': 54}\n",
    "\n",
    "l1 = speed.values()\n",
    "l1_set = set(l1)\n",
    "l1_list = list(l1_set)\n",
    "print(l1_list)\n",
    "print(l1_set)"
   ],
   "metadata": {
    "collapsed": false
   }
  },
  {
   "cell_type": "code",
   "execution_count": null,
   "outputs": [],
   "source": [
    "sample_list = [87, 45, 41, 65, 94, 41, 99, 94]\n",
    "\n",
    "sample_set = set(sample_list)\n",
    "print(sample_set)\n",
    "\n",
    "sample_tuple = tuple(sample_set)\n",
    "print(sample_tuple)\n",
    "\n",
    "print(min(sample_tuple))\n",
    "print(max(sample_tuple))"
   ],
   "metadata": {
    "collapsed": false
   }
  }
 ],
 "metadata": {
  "kernelspec": {
   "display_name": "Python 3",
   "language": "python",
   "name": "python3"
  },
  "language_info": {
   "codemirror_mode": {
    "name": "ipython",
    "version": 2
   },
   "file_extension": ".py",
   "mimetype": "text/x-python",
   "name": "python",
   "nbconvert_exporter": "python",
   "pygments_lexer": "ipython2",
   "version": "2.7.6"
  }
 },
 "nbformat": 4,
 "nbformat_minor": 0
}
