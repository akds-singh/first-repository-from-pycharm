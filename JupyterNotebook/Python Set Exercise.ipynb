{
 "cells": [
  {
   "cell_type": "code",
   "execution_count": 1,
   "metadata": {
    "collapsed": true
   },
   "outputs": [
    {
     "name": "stdout",
     "output_type": "stream",
     "text": [
      "{25, 75.25, 'Mark', 'Jessa'}\n",
      "{'Harry Potter', 'Angels and Demons', 'Atlas Shrugged'}\n",
      "<class 'set'>\n"
     ]
    }
   ],
   "source": [
    "# create a set using {}\n",
    "# set of mixed types intger, string, and floats\n",
    "sample_set = {'Mark', 'Jessa', 25, 75.25, 25}\n",
    "sample_list = list(sample_set)\n",
    "print(sample_set)\n",
    "# Output {25, 'Mark', 75.25, 'Jessa'}\n",
    "\n",
    "# create a set using set constructor\n",
    "# set of strings\n",
    "book_set = set((\"Harry Potter\", \"Angels and Demons\", \"Atlas Shrugged\"))\n",
    "print(book_set)\n",
    "# output {'Harry Potter', 'Atlas Shrugged', 'Angels and Demons'}\n",
    "\n",
    "print(type(book_set))\n",
    "# Output class 'set'"
   ]
  }
 ],
 "metadata": {
  "kernelspec": {
   "display_name": "Python 3",
   "language": "python",
   "name": "python3"
  },
  "language_info": {
   "codemirror_mode": {
    "name": "ipython",
    "version": 2
   },
   "file_extension": ".py",
   "mimetype": "text/x-python",
   "name": "python",
   "nbconvert_exporter": "python",
   "pygments_lexer": "ipython2",
   "version": "2.7.6"
  }
 },
 "nbformat": 4,
 "nbformat_minor": 0
}
