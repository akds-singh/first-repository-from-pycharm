{
 "cells": [
  {
   "cell_type": "markdown",
   "source": [
    "Exercise 2: Create a function with variable length of arguments"
   ],
   "metadata": {
    "collapsed": false
   }
  },
  {
   "cell_type": "code",
   "execution_count": null,
   "metadata": {
    "collapsed": true
   },
   "outputs": [],
   "source": [
    "def func1(**args):\n",
    "    print(args)\n",
    "    for i in args:\n",
    "        print(type(i))\n",
    "        print(i[0:])\n",
    "        print(args[i])\n",
    "\n",
    "\n",
    "\n",
    "\n",
    "func1(akds=23, avi=45)"
   ]
  },
  {
   "cell_type": "markdown",
   "source": [
    "Exercise 3: Return multiple values from a function"
   ],
   "metadata": {
    "collapsed": false
   }
  },
  {
   "cell_type": "code",
   "execution_count": null,
   "outputs": [],
   "source": [
    "def cacl(a, b):\n",
    "    res_sum = a + b\n",
    "    res_sub = a - b\n",
    "    return f\"{res_sum} {res_sub}\"\n",
    "\n",
    "res = cacl(50, 30)\n",
    "print(res)"
   ],
   "metadata": {
    "collapsed": false
   }
  },
  {
   "cell_type": "code",
   "execution_count": null,
   "outputs": [],
   "source": [
    "for i in (7, 8 , 56, 56,):\n",
    "        print(i)"
   ],
   "metadata": {
    "collapsed": false
   }
  },
  {
   "cell_type": "markdown",
   "source": [
    "Exercise 4: Create a function with a default argument"
   ],
   "metadata": {
    "collapsed": false
   }
  },
  {
   "cell_type": "code",
   "execution_count": null,
   "outputs": [],
   "source": [
    "def show_employee(name , salary=9000):\n",
    "    # return  f\"Name: {name}\" , f\"Salary: { salary}\"\n",
    "    return  f' Name: {name} Salary: {salary}'\n",
    "\n",
    "\n",
    "print(show_employee(\"Ben\", 12000))\n",
    "print(show_employee(\"Jessa\"))"
   ],
   "metadata": {
    "collapsed": false
   }
  },
  {
   "cell_type": "code",
   "execution_count": null,
   "outputs": [],
   "source": [
    "def func1(a, b):\n",
    "    \n",
    "    def func2(a, b):\n",
    "        return a + b\n",
    "    return func2(a,b) + 5\n",
    "\n",
    "func1(40, 60)"
   ],
   "metadata": {
    "collapsed": false
   }
  },
  {
   "cell_type": "markdown",
   "source": [
    "Exercise 6: Create a recursive function"
   ],
   "metadata": {
    "collapsed": false
   }
  },
  {
   "cell_type": "code",
   "execution_count": null,
   "outputs": [],
   "source": [
    "sum_series = 1\n",
    "def calc_sum(n):\n",
    "    sum_series += n\n",
    "    n = n-1\n",
    "    return calc_sum(n)\n",
    "\n",
    "print(calc_sum(10))"
   ],
   "metadata": {
    "collapsed": false
   }
  },
  {
   "cell_type": "markdown",
   "source": [
    "Exercise 7: Assign a different name to function and call it through the new name"
   ],
   "metadata": {
    "collapsed": false
   }
  },
  {
   "cell_type": "code",
   "execution_count": null,
   "outputs": [],
   "source": [
    "\n",
    "def display_student(name, age):\n",
    "    print(name, age)\n",
    "\n",
    "display_student(\"Emma\", 26)\n",
    "\n",
    "show_student= display_student\n",
    "show_student(\"Emma\", 26)\n",
    "display_student(\"Emma\", 26)\n",
    "\n",
    "\n",
    "\n"
   ],
   "metadata": {
    "collapsed": false
   }
  },
  {
   "cell_type": "markdown",
   "source": [
    "Exercise 8: Generate a Python list of all the even numbers between 4 to 30"
   ],
   "metadata": {
    "collapsed": false
   }
  },
  {
   "cell_type": "code",
   "execution_count": null,
   "outputs": [],
   "source": [
    "l = []\n",
    "for i in  range(4, 30 , 2):\n",
    "    l += [i]\n",
    "\n",
    "print(l)"
   ],
   "metadata": {
    "collapsed": false
   }
  },
  {
   "cell_type": "code",
   "execution_count": null,
   "outputs": [],
   "source": [
    "[3, 5,5 , 7] + 9\n"
   ],
   "metadata": {
    "collapsed": false
   }
  },
  {
   "cell_type": "code",
   "execution_count": null,
   "outputs": [],
   "source": [
    "print(sum(range(1, 5)))"
   ],
   "metadata": {
    "collapsed": false
   }
  },
  {
   "cell_type": "markdown",
   "source": [
    "Exercise 9: Find the largest item from a given list"
   ],
   "metadata": {
    "collapsed": false
   }
  },
  {
   "cell_type": "code",
   "execution_count": null,
   "outputs": [],
   "source": [
    "x = [4, 6, 8, 24, 12, 2]\n",
    "max(x)"
   ],
   "metadata": {
    "collapsed": false
   }
  },
  {
   "cell_type": "markdown",
   "source": [],
   "metadata": {
    "collapsed": false
   }
  }
 ],
 "metadata": {
  "kernelspec": {
   "display_name": "Python 3",
   "language": "python",
   "name": "python3"
  },
  "language_info": {
   "codemirror_mode": {
    "name": "ipython",
    "version": 2
   },
   "file_extension": ".py",
   "mimetype": "text/x-python",
   "name": "python",
   "nbconvert_exporter": "python",
   "pygments_lexer": "ipython2",
   "version": "2.7.6"
  }
 },
 "nbformat": 4,
 "nbformat_minor": 0
}
