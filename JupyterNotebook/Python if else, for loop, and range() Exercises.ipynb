{
 "cells": [
  {
   "cell_type": "markdown",
   "source": [
    "Exercise 2: Print the following pattern"
   ],
   "metadata": {
    "collapsed": false
   }
  },
  {
   "cell_type": "code",
   "execution_count": null,
   "outputs": [],
   "source": [
    "for i in range(6, 1, -1):\n",
    "    # for j in range(1,i+1):\n",
    "    #     print(j, end=\" \")\n",
    "\n",
    "    print(\" dfa\")"
   ],
   "metadata": {
    "collapsed": false
   }
  },
  {
   "cell_type": "code",
   "execution_count": null,
   "outputs": [],
   "source": [
    "def add_to_num(num):\n",
    "    total_sum = 0\n",
    "    for i in range(num+1):\n",
    "        total_sum += i\n",
    "\n",
    "    return total_sum\n",
    "\n",
    "print(add_to_num(10))"
   ],
   "metadata": {
    "collapsed": false
   }
  },
  {
   "cell_type": "code",
   "execution_count": null,
   "outputs": [],
   "source": [
    "num = int(input(\"Enter the number for multiplication:\"))\n",
    "\n",
    "for i in range(1, 11):\n",
    "    print(num * i)"
   ],
   "metadata": {
    "collapsed": false
   }
  },
  {
   "cell_type": "markdown",
   "source": [],
   "metadata": {
    "collapsed": false
   }
  },
  {
   "cell_type": "code",
   "execution_count": null,
   "outputs": [],
   "source": [
    "numbers = [525, 12, 75,160, 10 ,14,150, 180, 145,500, 525, 50, 80]\n",
    "\n",
    "for i in numbers:\n",
    "    if i%5==0 and i <= 150:\n",
    "        print(i)\n",
    "    elif i > 500:\n",
    "        break\n"
   ],
   "metadata": {
    "collapsed": false
   }
  },
  {
   "cell_type": "code",
   "execution_count": null,
   "outputs": [],
   "source": [
    "num = int(input(\"Enter the number:\"))\n",
    "count = 0\n",
    "while num > 0:\n",
    "    count = count + 1\n",
    "    num = num // 10\n",
    "print(count)"
   ],
   "metadata": {
    "collapsed": false
   }
  },
  {
   "cell_type": "code",
   "execution_count": null,
   "outputs": [],
   "source": [
    "\n",
    "n = 1\n",
    "int(n)"
   ],
   "metadata": {
    "collapsed": false
   }
  },
  {
   "cell_type": "markdown",
   "source": [],
   "metadata": {
    "collapsed": false
   }
  },
  {
   "cell_type": "markdown",
   "source": [
    "Exercise 7: Print the following pattern"
   ],
   "metadata": {
    "collapsed": false
   }
  },
  {
   "cell_type": "code",
   "execution_count": null,
   "outputs": [],
   "source": [
    "j=5\n",
    "for i in range(5, 0, -1):\n",
    "    for j in range(i, 0, -1):\n",
    "        print(j, end=\" \")\n",
    "\n",
    "    print(\" \")"
   ],
   "metadata": {
    "collapsed": false
   }
  },
  {
   "cell_type": "code",
   "execution_count": null,
   "outputs": [],
   "source": [
    "list1 = [10, 20, 30, 40, 50]\n",
    "\n",
    "for i in range(1, len(list1)+1):\n",
    "    print(list1[-i])"
   ],
   "metadata": {
    "collapsed": false
   }
  },
  {
   "cell_type": "code",
   "execution_count": null,
   "outputs": [],
   "source": [
    "for i in range(-10, 0, 1):\n",
    "    print(i)"
   ],
   "metadata": {
    "collapsed": false
   }
  },
  {
   "cell_type": "code",
   "execution_count": null,
   "outputs": [],
   "source": [
    "for i in range(5):\n",
    "    print(i)\n",
    "\n",
    "print(\"Done!\")"
   ],
   "metadata": {
    "collapsed": false
   }
  },
  {
   "cell_type": "code",
   "execution_count": null,
   "outputs": [],
   "source": [
    "list1 = 80\n",
    "for num in range(list1):\n",
    "    print(num)"
   ],
   "metadata": {
    "collapsed": false
   }
  },
  {
   "cell_type": "markdown",
   "source": [
    "Exercise 11: Write a program to display all prime numbers within a range"
   ],
   "metadata": {
    "collapsed": false
   }
  },
  {
   "cell_type": "code",
   "execution_count": null,
   "outputs": [],
   "source": [
    "start = 25\n",
    "end = 50\n",
    "\n",
    "for i in range(start, end+1):\n",
    "    # print(\"\\nintial i: \", i,)\n",
    "    for j in range(2, i+1):\n",
    "        # print(\"intial_j:\", j, end=\" \")\n",
    "        if i == 2:\n",
    "            print(i)\n",
    "        elif j == i -1:\n",
    "            # print(\"prime Number: \", i)\n",
    "            print(i, end=\" \")\n",
    "\n",
    "\n",
    "        elif i % j != 0:\n",
    "            # print(\"|continue|\", end=\" \")\n",
    "            continue\n",
    "\n",
    "        else:\n",
    "            break\n",
    "\n"
   ],
   "metadata": {
    "collapsed": false
   }
  },
  {
   "cell_type": "code",
   "execution_count": null,
   "outputs": [],
   "source": [
    "start = 25\n",
    "end = 50\n",
    "print(\"Prime numbers between\", start, \"and\", end, \"are:\")\n",
    "\n",
    "for num in range(start, end + 1):\n",
    "    # all prime numbers are greater than 1\n",
    "    # if number is less than or equal to 1, it is not prime\n",
    "    if num > 1:\n",
    "        for i in range(2, num):\n",
    "            # check for factors\n",
    "            if (num % i) == 0:\n",
    "                # not a prime number so break inner loop and\n",
    "                # look for next number\n",
    "                break\n",
    "        else:\n",
    "            print(num)"
   ],
   "metadata": {
    "collapsed": false
   }
  },
  {
   "cell_type": "markdown",
   "source": [
    "Exercise 12: Display Fibonacci series up to 10 terms"
   ],
   "metadata": {
    "collapsed": false
   }
  },
  {
   "cell_type": "code",
   "execution_count": null,
   "outputs": [],
   "source": [
    "c1 = 0\n",
    "c2 = 1\n",
    "k = 0\n",
    "for i in range(10):\n",
    "    print(k)\n",
    "    k = c1 + c2\n",
    "    c2 = c1\n",
    "    c1 = k\n",
    "\n"
   ],
   "metadata": {
    "collapsed": false
   }
  },
  {
   "cell_type": "markdown",
   "source": [
    "Exercise 13: Find the factorial of a given number"
   ],
   "metadata": {
    "collapsed": false
   }
  },
  {
   "cell_type": "code",
   "execution_count": null,
   "outputs": [],
   "source": [],
   "metadata": {
    "collapsed": false
   }
  },
  {
   "cell_type": "code",
   "execution_count": null,
   "outputs": [],
   "source": [
    "num = -8\n",
    "\n",
    "factorial = 1\n",
    "\n",
    "for i in range(num, 1, -1):\n",
    "    factorial *= i\n",
    "\n",
    "print(factorial)"
   ],
   "metadata": {
    "collapsed": false
   }
  },
  {
   "cell_type": "markdown",
   "source": [
    "Exercise 14: Reverse a given integer number"
   ],
   "metadata": {
    "collapsed": false
   }
  },
  {
   "cell_type": "code",
   "execution_count": null,
   "outputs": [],
   "source": [
    "num = \"42359\"\n",
    "rev_num = \"\"\n",
    "for i in range(1, len(num)+1):\n",
    "    rev_num += num[-i]\n",
    "\n",
    "print(rev_num)"
   ],
   "metadata": {
    "collapsed": false
   }
  },
  {
   "cell_type": "markdown",
   "source": [
    "Exercise 15: Use a loop to display elements from a given list present at odd index positions"
   ],
   "metadata": {
    "collapsed": false
   }
  },
  {
   "cell_type": "code",
   "execution_count": null,
   "outputs": [],
   "source": [
    "my_list = [10, 20, 30, 40, 50, 60, 70, 80, 90, 100]\n",
    "\n",
    "for i in my_list[1::2]:\n",
    "   print(i)"
   ],
   "metadata": {
    "collapsed": false
   }
  },
  {
   "cell_type": "markdown",
   "source": [
    "Exercise 17: Find the sum of the series upto n terms"
   ],
   "metadata": {
    "collapsed": false
   }
  },
  {
   "cell_type": "code",
   "execution_count": null,
   "outputs": [],
   "source": [
    "c1 = 0\n",
    "\n",
    "n = 5\n",
    "for i in range(1, n+1):\n",
    "    num = \"\"\n",
    "    print(\"i:\", i)\n",
    "    for j in range(i):\n",
    "        print(\"j:\",j ,end=\",\")\n",
    "        num += \"2\"\n",
    "        print(num)\n",
    "    num2 = int(num)\n",
    "    c1 += num2\n",
    "\n",
    "print(c1)"
   ],
   "metadata": {
    "collapsed": false
   }
  },
  {
   "cell_type": "code",
   "execution_count": null,
   "outputs": [],
   "source": [
    "n= 9\n",
    "\n",
    "\n",
    "num = \"\"\n",
    "total_sum = 0\n",
    "for i in range(n):\n",
    "\n",
    "    num += '2'\n",
    "    total_sum += int(num)\n",
    "    print(num, end=\"+\" )\n",
    "\n",
    "print(\" = \", total_sum)"
   ],
   "metadata": {
    "collapsed": false
   }
  },
  {
   "cell_type": "markdown",
   "source": [
    "Exercise 18: Print the following pattern"
   ],
   "metadata": {
    "collapsed": false
   }
  },
  {
   "cell_type": "code",
   "execution_count": 61,
   "outputs": [
    {
     "name": "stdout",
     "output_type": "stream",
     "text": [
      "* \t\n",
      "* * \t\n",
      "* * * \t\n",
      "* * * * \t\n",
      "* * * \t\n",
      "* * \t\n",
      "* \t\n"
     ]
    }
   ],
   "source": [
    "n= 8\n",
    "for i in range(1, int(n/2) +1):\n",
    "    for j in range(0, i):\n",
    "        print(\"*\", end=\" \")\n",
    "    print(\"\\t\")\n",
    "    n -= 1\n",
    "\n",
    "# print(n)\n",
    "for i in range(n-1, 0, -1):\n",
    "    for j in range(0, i):\n",
    "        print(\"*\", end=\" \")\n",
    "    print(\"\\t\")\n"
   ],
   "metadata": {
    "collapsed": false
   }
  }
 ],
 "metadata": {
  "kernelspec": {
   "display_name": "Python 3",
   "language": "python",
   "name": "python3"
  },
  "language_info": {
   "codemirror_mode": {
    "name": "ipython",
    "version": 2
   },
   "file_extension": ".py",
   "mimetype": "text/x-python",
   "name": "python",
   "nbconvert_exporter": "python",
   "pygments_lexer": "ipython2",
   "version": "2.7.6"
  }
 },
 "nbformat": 4,
 "nbformat_minor": 0
}
