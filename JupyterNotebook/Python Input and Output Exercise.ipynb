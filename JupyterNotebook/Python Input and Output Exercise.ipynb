{
 "cells": [
  {
   "cell_type": "markdown",
   "source": [
    "Exercise 1: Accept numbers from a user"
   ],
   "metadata": {
    "collapsed": false
   }
  },
  {
   "cell_type": "code",
   "execution_count": null,
   "outputs": [],
   "source": [
    "num1 = int(input(\"number1:\"))\n",
    "num2 = int(input(\"number2:\"))\n",
    "product = num1 * num2\n",
    "print(product)"
   ],
   "metadata": {
    "collapsed": false
   }
  },
  {
   "cell_type": "markdown",
   "source": [
    "Exercise 2: Display three string “Name”, “Is”, “James” as “Name**Is**James”"
   ],
   "metadata": {
    "collapsed": false
   }
  },
  {
   "cell_type": "code",
   "execution_count": null,
   "outputs": [],
   "source": [
    "print(\"name\", \"is\", \"james\", sep=\"**\")"
   ],
   "metadata": {
    "collapsed": false
   }
  },
  {
   "cell_type": "markdown",
   "source": [
    "Exercise 3: Convert Decimal number to octal using print() output formatting"
   ],
   "metadata": {
    "collapsed": false
   }
  },
  {
   "cell_type": "code",
   "execution_count": null,
   "outputs": [],
   "source": [
    "print(\"%o\" %24)"
   ],
   "metadata": {
    "collapsed": false
   }
  },
  {
   "cell_type": "code",
   "execution_count": null,
   "outputs": [],
   "source": [
    "text = input(\"Enter text \")\n",
    "\n",
    "print(\"\\n\")\n",
    "# left aligned\n",
    "print('{:<1}'.format(text))  # Right aligned print('{:>25}'.format(text))\n",
    "# centered\n",
    "print('{:^10}'.format(text))"
   ],
   "metadata": {
    "collapsed": false
   }
  },
  {
   "cell_type": "markdown",
   "source": [],
   "metadata": {
    "collapsed": false
   }
  },
  {
   "cell_type": "markdown",
   "source": [],
   "metadata": {
    "collapsed": false
   }
  },
  {
   "cell_type": "code",
   "execution_count": null,
   "outputs": [],
   "source": [
    "num = 4343490\n",
    "# num.format(o)\n",
    "num1 = 9847.438957\n",
    "print(\"octal number: {:.2f} {:.4f} \".format(num, num1))"
   ],
   "metadata": {
    "collapsed": false
   }
  },
  {
   "cell_type": "markdown",
   "source": [
    "Exercise 5: Accept a list of 5 float numbers as an input from the user"
   ],
   "metadata": {
    "collapsed": false
   }
  },
  {
   "cell_type": "code",
   "execution_count": null,
   "outputs": [],
   "source": [
    "user_input = input(\"Enter five float numbers:\")\n",
    "user_list = user_input.split(\" \")\n",
    "print(user_list)"
   ],
   "metadata": {
    "collapsed": false
   }
  },
  {
   "cell_type": "code",
   "execution_count": null,
   "outputs": [],
   "source": [
    "n = int(input(\"Enter the size of the list \"))\n",
    "print(\"\\n\")\n",
    "num_list = list(int(num) for num in input(\"Enter the list items separated by space \").strip().split())[:n]\n",
    "\n",
    "print(\"User list: \", num_list)"
   ],
   "metadata": {
    "collapsed": false
   }
  },
  {
   "cell_type": "code",
   "execution_count": null,
   "outputs": [],
   "source": [
    "User_list:  [63, 25, 31, 54, 36, 56]\n",
    "t_list1 = list(int(num) for num in \"45 56 36 56 25 56 65\".strip().split())\n",
    "t_list2 = list()\n",
    "t_list = \"45 56 36 56 25 56 65\".strip().split()\n",
    "print(t_list, \"\\n\", t_list1)"
   ],
   "metadata": {
    "collapsed": false
   }
  },
  {
   "cell_type": "markdown",
   "source": [
    "Exercise 6: Write all content of a given file into a new file by skipping line number 5"
   ],
   "metadata": {
    "collapsed": false
   }
  },
  {
   "cell_type": "code",
   "execution_count": null,
   "outputs": [],
   "source": [
    "text = \" aviansg deep singh\"\n",
    "fp = open(\"test3.txt\", 'r+')\n",
    "# print(fp.read())\n",
    "fp.write(text)\n",
    "print(\"done\")\n",
    "# print(fp.read())\n",
    "# fp.close()\n",
    "# fp = open(\"test3.txt\", \"r\")\n",
    "# t = ' \" write at the begging\"'\n",
    "# fp.write(t)\n",
    "# print(\"ok\")\n",
    "\n",
    "fp.seek(10)\n",
    "print(fp.readlines())\n",
    "print(fp.tell())\n"
   ],
   "metadata": {
    "collapsed": false
   }
  },
  {
   "cell_type": "code",
   "execution_count": null,
   "outputs": [],
   "source": [
    "text = \"This is new content\"\n",
    "# writing new content to the file\n",
    "fp = open(\"write_demo.txt\", 'w')\n",
    "fp.write(text)\n",
    "print('Done Writing')\n",
    "fp.close()"
   ],
   "metadata": {
    "collapsed": false
   }
  },
  {
   "cell_type": "code",
   "execution_count": null,
   "outputs": [],
   "source": [
    "bytes_data = b'\\x21'\n",
    "\n",
    "with open(\"test.txt\", \"wb\") as fp:\n",
    "    # Write bytes to file\n",
    "    fp.write(bytes_data)\n",
    "\n",
    "\n",
    "print(fp.read())"
   ],
   "metadata": {
    "collapsed": false
   }
  },
  {
   "cell_type": "code",
   "execution_count": null,
   "outputs": [],
   "source": [
    "import shutil\n",
    "text = \"l1\\nl2\\nl3\\nl4\\nl5\\nl6\\nl7\"\n",
    "fp1 = open(\"test.txt\",\"w+\")\n",
    "# print(fp1.read())\n",
    "fp1.write(text)\n",
    "# print(fp1.readlines())\n",
    "# fp1.close()\n",
    "\n",
    "print(\"read file:\\n\",fp1.read())\n",
    "print(\"done\")\n",
    "\n",
    "fp3 = open(\"test.txt\", \"r\")\n",
    "# print(\"read fp3\\n\", fp3.readlines())\n",
    "list_fp3 = fp3.readlines()\n",
    "print(\"list of fp3\\n\",list_fp3)\n",
    "for i in list_fp3:\n",
    "    fp4 = open(\"new_file.txt\", \"a+\")\n",
    "    if i == \"l5\\n\":\n",
    "        continue\n",
    "    fp4.write(i)\n",
    "\n",
    "    print(\"fp4=\", fp4.read())\n",
    "    print(\"i=\", i)\n",
    "\n",
    "\n",
    "print(\"new_file:\", fp4.read())\n",
    "# fp2 = open(\"new_file.txt\", \"w+\")\n",
    "# shutil.copy(\"test.txt\", \"new_file.txt\")\n"
   ],
   "metadata": {
    "collapsed": false
   }
  },
  {
   "cell_type": "code",
   "execution_count": null,
   "outputs": [],
   "source": [
    "# with open(\"test.txt\", \"r\") as fp3:\n",
    "    # read all lines from a file\n",
    "fp3 = open(\"test.txt\", \"r\")\n",
    "lines = fp3.readlines()\n",
    "\n",
    "print(lines)\n",
    "print(type(lines))"
   ],
   "metadata": {
    "collapsed": false
   }
  },
  {
   "cell_type": "code",
   "execution_count": null,
   "outputs": [],
   "source": [
    "list_fo = [\"fjd \", \"AKASH \", \"DEEP \", \"singh \", \"9835\"]\n",
    "\n",
    "fo = open(\"demo_file.txt\", \"w\")\n",
    "fo.writelines(list_fo)\n",
    "fo.close()\n",
    "\n",
    "fo = open(\"demo_file.txt\", \"r\")\n",
    "print(fo.read())"
   ],
   "metadata": {
    "collapsed": false
   }
  },
  {
   "cell_type": "code",
   "execution_count": null,
   "outputs": [],
   "source": [
    "person_data = ['Name: Emma', '\\nAddress: 221 Baker Street', '\\nCity: London']\n",
    "# writing string and list of lines to a file\n",
    "fp = open(\"write_demo.txt\", \"w\")\n",
    "fp.writelines(person_data)\n",
    "fp.close()\n",
    "\n",
    "# opening the file in read mode\n",
    "fp = open(\"write_demo.txt\", \"r\")\n",
    "print(fp.read())\n",
    "fp.close()"
   ],
   "metadata": {
    "collapsed": false
   }
  },
  {
   "cell_type": "code",
   "execution_count": null,
   "outputs": [],
   "source": [
    "name, age, marks = input(\"Enter your Name, Age, Percentage separated by space \").split()\n",
    "print(\"\\n\")\n",
    "print(\"User Details: \", name, age, marks)"
   ],
   "metadata": {
    "collapsed": false
   }
  },
  {
   "cell_type": "code",
   "execution_count": null,
   "outputs": [],
   "source": [
    "name1 , name2, name3 = input(\"Enter string :\").split()\n",
    "\n",
    "print(name1, name2, name3)"
   ],
   "metadata": {
    "collapsed": false
   }
  },
  {
   "cell_type": "markdown",
   "source": [
    "Exercise 8: Format variables using a string.format() method."
   ],
   "metadata": {
    "collapsed": false
   }
  },
  {
   "cell_type": "code",
   "execution_count": null,
   "outputs": [],
   "source": [
    "totalMoney = 1000\n",
    "quantity = 3\n",
    "price = 450\n",
    "print(type(price))\n",
    "price = round(4563.5632, 2)\n",
    "print(f\"I have {totalMoney} dollars so I can buy {quantity} football for {price} dollars.\")"
   ],
   "metadata": {
    "collapsed": false
   }
  },
  {
   "cell_type": "code",
   "execution_count": null,
   "outputs": [],
   "source": [
    "totalMoney = 1000\n",
    "quantity = 3\n",
    "price = 450\n",
    "test = 566346.654686\n",
    "\n",
    "print('I have {0} dollars so I can buy {1} football for {3:.2f} {2:.2f} dollars'.format(totalMoney, quantity, price, test))"
   ],
   "metadata": {
    "collapsed": false
   }
  },
  {
   "cell_type": "code",
   "execution_count": null,
   "outputs": [],
   "source": [
    "num = 4343490\n",
    "# num.format(o)\n",
    "num1 = 9847.438957\n",
    "print(\"octal number: {:.2f} {:.4f} \".format(num, num1))"
   ],
   "metadata": {
    "collapsed": false
   }
  },
  {
   "cell_type": "markdown",
   "source": [],
   "metadata": {
    "collapsed": false
   }
  },
  {
   "cell_type": "code",
   "execution_count": null,
   "outputs": [],
   "source": [
    "fo = open(\"new_file.txt\", \"r\")\n",
    "print(fo.tell())\n",
    "\n",
    "\n",
    "\n",
    "\n",
    "if fo.read() == \"\":\n",
    "    print(\"This file is empty\")\n",
    "else:\n",
    "    print(\"Not done\")"
   ],
   "metadata": {
    "collapsed": false
   }
  },
  {
   "cell_type": "code",
   "execution_count": null,
   "outputs": [],
   "source": [],
   "metadata": {
    "collapsed": false
   }
  },
  {
   "cell_type": "code",
   "execution_count": null,
   "outputs": [],
   "source": [
    "print('[]' % 65)"
   ],
   "metadata": {
    "collapsed": false
   }
  }
 ],
 "metadata": {
  "kernelspec": {
   "display_name": "Python 3",
   "language": "python",
   "name": "python3"
  },
  "language_info": {
   "codemirror_mode": {
    "name": "ipython",
    "version": 2
   },
   "file_extension": ".py",
   "mimetype": "text/x-python",
   "name": "python",
   "nbconvert_exporter": "python",
   "pygments_lexer": "ipython2",
   "version": "2.7.6"
  }
 },
 "nbformat": 4,
 "nbformat_minor": 0
}
