{
 "cells": [
  {
   "cell_type": "code",
   "execution_count": null,
   "outputs": [],
   "source": [
    "number1 = int(input(\"numner1 = \"))\n",
    "number2 = int(input(\"number2 = \"))\n",
    "\n",
    "if number1 * number2 <= 1000:\n",
    "    print(\"The product is \", number1 * number2)\n",
    "else:\n",
    "    print(\"The result is \", number1 + number2)\n",
    "\n"
   ],
   "metadata": {
    "collapsed": false
   }
  },
  {
   "cell_type": "code",
   "execution_count": null,
   "outputs": [],
   "source": [
    "# Doing the above problem in different manner\n",
    "\n",
    "def calculation(num_1, num_2):\n",
    "    product = num_1 * num_2\n",
    "\n",
    "    if product <= 1000:\n",
    "        return product\n",
    "    else:\n",
    "        return num_1 + num_2\n",
    "\n",
    "result = calculation(20, 30)\n",
    "print(result)\n",
    "\n",
    "result = calculation(40, 30)\n",
    "print(result)"
   ],
   "metadata": {
    "collapsed": false
   }
  },
  {
   "cell_type": "code",
   "execution_count": null,
   "outputs": [],
   "source": [
    "# Exercise 2\n",
    "\n",
    "\n",
    "previous_num = 0\n",
    "for i in range(10):\n",
    "    print(f\"Current Number {i} Previous Number {previous_num} Sum: {i + previous_num}\")\n",
    "    previous_num = i"
   ],
   "metadata": {
    "collapsed": false
   }
  },
  {
   "cell_type": "code",
   "execution_count": null,
   "outputs": [],
   "source": [],
   "metadata": {
    "collapsed": false
   }
  }
 ],
 "metadata": {
  "kernelspec": {
   "display_name": "Python 3",
   "language": "python",
   "name": "python3"
  },
  "language_info": {
   "codemirror_mode": {
    "name": "ipython",
    "version": 2
   },
   "file_extension": ".py",
   "mimetype": "text/x-python",
   "name": "python",
   "nbconvert_exporter": "python",
   "pygments_lexer": "ipython2",
   "version": "2.7.6"
  }
 },
 "nbformat": 4,
 "nbformat_minor": 0
}
