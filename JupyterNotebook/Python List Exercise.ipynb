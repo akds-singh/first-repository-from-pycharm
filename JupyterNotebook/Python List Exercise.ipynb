{
 "cells": [
  {
   "cell_type": "code",
   "execution_count": null,
   "metadata": {
    "collapsed": true
   },
   "outputs": [],
   "source": [
    "my_list = list([2, 4, 6, 8, 10, 12])\n",
    "\n",
    "# remove item 6\n",
    "my_list.remove(6)\n",
    "# remove item 8\n",
    "my_list.remove(89)\n",
    "\n",
    "print(my_list)\n",
    "# Output [2, 4, 10, 12]"
   ]
  },
  {
   "cell_type": "markdown",
   "source": [
    "Exercise 2: Concatenate two lists index-wise"
   ],
   "metadata": {
    "collapsed": false
   }
  },
  {
   "cell_type": "code",
   "execution_count": null,
   "outputs": [],
   "source": [
    "list1 = [\"M\", \"na\", \"i\", \"Ke\"]\n",
    "list2 = [\"y\", \"me\", \"s\", \"lly\",\"hsdkj\"]\n",
    "new_list  = []\n",
    "min_len = min(len(list1), len(list2))\n",
    "for i in range(min_len):\n",
    "    print(i)\n",
    "    conc_str = list1[i] + list2[i]\n",
    "    new_list.append(conc_str)\n",
    "print(i)\n",
    "for j in range(i+1 , max(len(list1), len(list2))):\n",
    "    new_list.append(list2[j])\n",
    "print(new_list)"
   ],
   "metadata": {
    "collapsed": false
   }
  },
  {
   "cell_type": "code",
   "execution_count": null,
   "outputs": [],
   "source": [
    "new_list1 = []\n",
    "for i in range(max(len(list2), len(list1))):\n",
    "    conc_str = ''\n",
    "    if i < len(list1):\n",
    "        conc_str = list1[i]\n",
    "    if i < len(list2):\n",
    "        conc_str += list2[i]\n",
    "    new_list1.append(conc_str)\n",
    "\n",
    "print(new_list1)"
   ],
   "metadata": {
    "collapsed": false
   }
  },
  {
   "cell_type": "code",
   "execution_count": null,
   "outputs": [],
   "source": [
    "list1 = [\"M\", \"na\", \"i\", \"Ke\",'jhgjh']\n",
    "list2 = [\"y\", \"me\", \"s\", \"lly\",\"hsdkj\",'jhgj']\n",
    "l = list(zip(list1, list2))\n",
    "new_list2 = []\n",
    "for i, j in zip(list1, list2):\n",
    "    conc_str = ''\n",
    "    conc_str = i + j\n",
    "    new_list2.append(conc_str)\n",
    "print(l)\n",
    "print(new_list2)"
   ],
   "metadata": {
    "collapsed": false
   }
  },
  {
   "cell_type": "code",
   "execution_count": null,
   "outputs": [],
   "source": [
    "list1 = [\"M\", \"na\", \"i\", \"Ke\"]\n",
    "list2 = [\"y\", \"me\", \"s\", \"lly\",'jh']\n",
    "list3 = [i + j for i, j in zip(list1, list2)]\n",
    "print(list3)"
   ],
   "metadata": {
    "collapsed": false
   }
  },
  {
   "cell_type": "code",
   "execution_count": null,
   "outputs": [],
   "source": [
    "numbers = [1, 2, 3, 4, 5, 6, 7]\n",
    "\n",
    "new_list = [ i**2 for i in numbers]\n",
    "print(new_list)"
   ],
   "metadata": {
    "collapsed": false
   }
  },
  {
   "cell_type": "code",
   "execution_count": null,
   "outputs": [],
   "source": [
    "list1 = [\"Hello \", \"take \"]\n",
    "list2 = [\"Dear\", \"Sir\"]\n",
    "\n",
    "new_list = []\n",
    "for i in list1:\n",
    "    conc_str= ''\n",
    "    for j in list2:\n",
    "        conc_str =i + ' ' + j\n",
    "        new_list.append(conc_str)\n",
    "\n",
    "print(new_list)"
   ],
   "metadata": {
    "collapsed": false
   }
  },
  {
   "cell_type": "code",
   "execution_count": null,
   "outputs": [],
   "source": [
    "list1 = [\"Hello \", \"take \"]\n",
    "list2 = [\"Dear\", \"Sir\"]\n",
    "\n",
    "res = [x + y for x in list1 for y in list2]\n",
    "print(res)"
   ],
   "metadata": {
    "collapsed": false
   }
  },
  {
   "cell_type": "code",
   "execution_count": null,
   "outputs": [],
   "source": [
    "list1 = [10, 20, 30, 40]\n",
    "list2 = [100, 200, 300, 400]\n",
    "\n",
    "for i in range(1, len(list1)+1):\n",
    "    print(list1[i-1], list2[-i])\n",
    "\n"
   ],
   "metadata": {
    "collapsed": false
   }
  },
  {
   "cell_type": "code",
   "execution_count": null,
   "outputs": [],
   "source": [
    "new_list = zip(list1, list2[::-1])\n",
    "\n",
    "for i, y in new_list:\n",
    "    print(i, y)\n"
   ],
   "metadata": {
    "collapsed": false
   }
  },
  {
   "cell_type": "code",
   "execution_count": null,
   "outputs": [],
   "source": [
    "list1 = [\"Mike\", \"\", \"Emma\", \"Kelly\", \"\", \"Brad\" , None , 0]\n",
    "\n",
    "for i in list1:\n",
    "    if i:\n",
    "        continue\n",
    "    else:\n",
    "        list1.remove(i)\n",
    "print(list1)"
   ],
   "metadata": {
    "collapsed": false
   }
  },
  {
   "cell_type": "markdown",
   "source": [
    "Exercise 7: Add new item to list after a specified item\n"
   ],
   "metadata": {
    "collapsed": false
   }
  },
  {
   "cell_type": "code",
   "execution_count": null,
   "outputs": [],
   "source": [
    "list1 = [10, 20, [300, 400, [5000, 6000], 500], 30, 40]\n",
    "print(list1[2][2])\n",
    "(list1[2][2].append(7000))\n",
    "print(list1)"
   ],
   "metadata": {
    "collapsed": false
   }
  },
  {
   "cell_type": "code",
   "execution_count": null,
   "outputs": [],
   "source": [
    "list1 = [\"a\", \"b\", [\"c\", [\"d\", \"e\", [\"f\", \"g\"], \"k\"], \"l\"], \"m\", \"n\"]\n",
    "\n",
    "# sub list to add\n",
    "sub_list = [\"h\", \"i\", \"j\"]\n",
    "# list1[2][1][2] += sub_list\n",
    "list1[2][1][2].extend(sub_list)\n",
    "# list1[2][1][2].append(sub_list)\n",
    "print(list1)"
   ],
   "metadata": {
    "collapsed": false
   }
  },
  {
   "cell_type": "code",
   "execution_count": null,
   "outputs": [],
   "source": [
    "list1 = [5, 10, 15, 20, 25, 50, 20]\n",
    "# temp = list1.remove(20)\n",
    "index1 = list1.index(20)\n",
    "temp1 = list1.remove(20)\n",
    "list1.insert(3,200)\n",
    "print(list1)\n",
    "print(temp1)\n",
    "print(index1)"
   ],
   "metadata": {
    "collapsed": false
   }
  },
  {
   "cell_type": "code",
   "execution_count": null,
   "outputs": [],
   "source": [
    "list1 = [5, 20, 15, 20, 25, 50, 20]\n",
    "while 20 in list1:\n",
    "    print(list1)\n",
    "    list1.remove(20)\n",
    "\n",
    "print(list1)"
   ],
   "metadata": {
    "collapsed": false
   }
  },
  {
   "cell_type": "code",
   "execution_count": 33,
   "outputs": [
    {
     "name": "stdout",
     "output_type": "stream",
     "text": [
      "[5, 15, 25, 50]\n"
     ]
    }
   ],
   "source": [
    "list1 = [5, 20, 15, 20, 25, 50, 20]\n",
    "\n",
    "list1_comp = [val for val in list1 if not val == 20]\n",
    "print(list1_comp)"
   ],
   "metadata": {
    "collapsed": false
   }
  }
 ],
 "metadata": {
  "kernelspec": {
   "display_name": "Python 3",
   "language": "python",
   "name": "python3"
  },
  "language_info": {
   "codemirror_mode": {
    "name": "ipython",
    "version": 2
   },
   "file_extension": ".py",
   "mimetype": "text/x-python",
   "name": "python",
   "nbconvert_exporter": "python",
   "pygments_lexer": "ipython2",
   "version": "2.7.6"
  }
 },
 "nbformat": 4,
 "nbformat_minor": 0
}
