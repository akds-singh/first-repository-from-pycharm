{
 "cells": [
  {
   "cell_type": "code",
   "execution_count": null,
   "metadata": {
    "collapsed": true
   },
   "outputs": [],
   "source": [
    "seasons = ['Spring', 'Summer', 'Fall', 'Winter']\n",
    "print(list(enumerate(seasons)))\n",
    "# [(0, 'Spring'), (1, 'Summer'), (2, 'Fall'), (3, 'Winter')]\n",
    "print(list(enumerate(seasons, start=1)))\n",
    "# [(1, 'Spring'), (2, 'Summer'), (3, 'Fall'), (4, 'Winter')]"
   ]
  },
  {
   "cell_type": "code",
   "execution_count": null,
   "outputs": [],
   "source": [
    "# def enumerate(iterable, start=0):\n",
    "#     n = start\n",
    "#     for elem in iterable:\n",
    "#         yield n, elem\n",
    "#         n += 1\n",
    "\n",
    "list(enumerate('akash', 4))"
   ],
   "metadata": {
    "collapsed": false
   }
  },
  {
   "cell_type": "code",
   "execution_count": 55,
   "outputs": [
    {
     "name": "stdout",
     "output_type": "stream",
     "text": [
      "0\n",
      "1 line1\n",
      "\n",
      "2 line2\n",
      "\n",
      "3 line3\n",
      "\n",
      "4 line4\n",
      "\n",
      "5 line5\n",
      "\n",
      "6 line6\n",
      "\n",
      "['line4', 'line5']\n"
     ]
    }
   ],
   "source": [
    "with open(\"test.txt\", \"r\") as fo:\n",
    "    # print(fo.read())\n",
    "    print(fo.tell())\n",
    "\n",
    "    line = [4,5]\n",
    "    required_list = []\n",
    "    # print(type(required_list))\n",
    "    # required_list.append(\"aksh\")\n",
    "    for i , value in enumerate(fo, 1):\n",
    "         print(i, value)\n",
    "\n",
    "         if i in line:\n",
    "            required_list.append(value.strip())\n",
    "            # print(type(required_list))\n",
    "            # print(required_list)\n",
    "         elif i > 5:\n",
    "            break\n",
    "    print(required_list)\n"
   ],
   "metadata": {
    "collapsed": false
   }
  },
  {
   "cell_type": "code",
   "execution_count": 46,
   "outputs": [
    {
     "name": "stdout",
     "output_type": "stream",
     "text": [
      "deepsing:fdjkl\n"
     ]
    }
   ],
   "source": [
    "s = \"akashdeepsing:fdjkl\"\n",
    "a = s.strip(\"akash\")\n",
    "print(a)"
   ],
   "metadata": {
    "collapsed": false
   }
  },
  {
   "cell_type": "code",
   "execution_count": 51,
   "outputs": [
    {
     "name": "stdout",
     "output_type": "stream",
     "text": [
      "akash\n"
     ]
    }
   ],
   "source": [
    "print(\"akash\".strip('cmowz.'))"
   ],
   "metadata": {
    "collapsed": false
   }
  },
  {
   "cell_type": "markdown",
   "source": [
    "Exercise 10: Read line number 4 from the following file"
   ],
   "metadata": {
    "collapsed": false
   }
  },
  {
   "cell_type": "code",
   "execution_count": 135,
   "outputs": [
    {
     "name": "stdout",
     "output_type": "stream",
     "text": [
      "line4\n",
      "\n"
     ]
    }
   ],
   "source": [
    "text =\"line1\\nline2\\nline3\\nline4\\nline5\\nline6\\nline7\"\n",
    "\n",
    "with open(\"text1.txt\", \"w\") as fo:\n",
    "    fo.write(text)\n",
    "\n",
    "\n",
    "with open(\"text1.txt\", \"r\") as fo:\n",
    "    # print(fo.tell())\n",
    "    # print(fo.readline())\n",
    "    # print(fo.tell())\n",
    "    line = fo.readlines()[3]\n",
    "    # print(fo.tell())\n",
    "\n",
    "    print(line)"
   ],
   "metadata": {
    "collapsed": false
   }
  }
 ],
 "metadata": {
  "kernelspec": {
   "display_name": "Python 3",
   "language": "python",
   "name": "python3"
  },
  "language_info": {
   "codemirror_mode": {
    "name": "ipython",
    "version": 2
   },
   "file_extension": ".py",
   "mimetype": "text/x-python",
   "name": "python",
   "nbconvert_exporter": "python",
   "pygments_lexer": "ipython2",
   "version": "2.7.6"
  }
 },
 "nbformat": 4,
 "nbformat_minor": 0
}
