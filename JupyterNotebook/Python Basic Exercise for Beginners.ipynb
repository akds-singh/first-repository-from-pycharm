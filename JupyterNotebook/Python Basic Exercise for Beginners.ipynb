{
 "cells": [
  {
   "cell_type": "code",
   "execution_count": null,
   "outputs": [],
   "source": [
    "number1 = int(input(\"numner1 = \"))\n",
    "number2 = int(input(\"number2 = \"))\n",
    "\n",
    "if number1 * number2 <= 1000:\n",
    "    print(\"The product is \", number1 * number2)\n",
    "else:\n",
    "    print(\"The result is \", number1 + number2)\n",
    "\n"
   ],
   "metadata": {
    "collapsed": false
   }
  },
  {
   "cell_type": "code",
   "execution_count": null,
   "outputs": [],
   "source": [
    "# Doing the above problem in different manner\n",
    "\n",
    "def calculation(num_1, num_2):\n",
    "    product = num_1 * num_2\n",
    "\n",
    "    if product <= 1000:\n",
    "        return product\n",
    "    else:\n",
    "        return num_1 + num_2\n",
    "\n",
    "result = calculation(20, 30)\n",
    "print(result)\n",
    "\n",
    "result = calculation(40, 30)\n",
    "print(result)"
   ],
   "metadata": {
    "collapsed": false
   }
  },
  {
   "cell_type": "code",
   "execution_count": null,
   "outputs": [],
   "source": [
    "# Exercise 2\n",
    "\n",
    "\n",
    "previous_num = 0\n",
    "for i in range(10):\n",
    "    print(f\"Current Number {i} Previous Number {previous_num} Sum: {i + previous_num}\")\n",
    "    previous_num = i"
   ],
   "metadata": {
    "collapsed": false
   }
  },
  {
   "cell_type": "code",
   "execution_count": null,
   "outputs": [],
   "source": [
    "text = \"pynative\"\n",
    "print(text[1])\n",
    "print(len(text))\n",
    "print(type(text))"
   ],
   "metadata": {
    "collapsed": false
   }
  },
  {
   "cell_type": "code",
   "execution_count": null,
   "outputs": [],
   "source": [
    "# Exercise 3:\n",
    "\n",
    "string = input(\"Enter a string\")\n",
    "print(\"Orginal String is \", string)\n",
    "print(\"Printing only even index chars\")\n",
    "for i in range(len(string)):\n",
    "\n",
    "    if i % 2 == 0:\n",
    "        print(string[i])"
   ],
   "metadata": {
    "collapsed": false
   }
  },
  {
   "cell_type": "code",
   "execution_count": null,
   "outputs": [],
   "source": [
    "# accept input string from a user\n",
    "word = input('Enter word ')\n",
    "print(\"Original String:\", word)\n",
    "\n",
    "# get the length of a string\n",
    "size = len(word)\n",
    "\n",
    "# iterate a each character of a string\n",
    "# start: 0 to start with first character\n",
    "# stop: size-1 because index starts with 0\n",
    "# step: 2 to get the characters present at even index like 0, 2, 4\n",
    "print(\"Printing only even index chars\")\n",
    "for i in range(0, size - 1):\n",
    "    print(\"index[\", i, \"]\", word[i])"
   ],
   "metadata": {
    "collapsed": false
   }
  },
  {
   "cell_type": "code",
   "execution_count": null,
   "outputs": [],
   "source": [
    "# Exe"
   ],
   "metadata": {
    "collapsed": false
   }
  }
 ],
 "metadata": {
  "kernelspec": {
   "display_name": "Python 3",
   "language": "python",
   "name": "python3"
  },
  "language_info": {
   "codemirror_mode": {
    "name": "ipython",
    "version": 2
   },
   "file_extension": ".py",
   "mimetype": "text/x-python",
   "name": "python",
   "nbconvert_exporter": "python",
   "pygments_lexer": "ipython2",
   "version": "2.7.6"
  }
 },
 "nbformat": 4,
 "nbformat_minor": 0
}
