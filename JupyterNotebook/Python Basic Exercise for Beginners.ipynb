{
 "cells": [
  {
   "cell_type": "code",
   "execution_count": null,
   "metadata": {},
   "outputs": [],
   "source": [
    "number1 = int(input(\"numner1 = \"))\n",
    "number2 = int(input(\"number2 = \"))\n",
    "\n",
    "if number1 * number2 <= 1000:\n",
    "    print(\"The product is \", number1 * number2)\n",
    "else:\n",
    "    print(\"The result is \", number1 + number2)\n",
    "\n"
   ]
  },
  {
   "cell_type": "code",
   "execution_count": null,
   "metadata": {},
   "outputs": [],
   "source": [
    "# Doing the above problem in different manner\n",
    "\n",
    "def calculation(num_1, num_2):\n",
    "    product = num_1 * num_2\n",
    "\n",
    "    if product <= 1000:\n",
    "        return product\n",
    "    else:\n",
    "        return num_1 + num_2\n",
    "\n",
    "result = calculation(20, 30)\n",
    "print(result)\n",
    "\n",
    "result = calculation(40, 30)\n",
    "print(result)"
   ]
  },
  {
   "cell_type": "code",
   "execution_count": null,
   "metadata": {},
   "outputs": [],
   "source": [
    "# Exercise 2\n",
    "\n",
    "\n",
    "previous_num = 0\n",
    "for i in range(10):\n",
    "    print(f\"Current Number {i} Previous Number {previous_num} Sum: {i + previous_num}\")\n",
    "    previous_num = i"
   ]
  },
  {
   "cell_type": "code",
   "execution_count": null,
   "metadata": {},
   "outputs": [],
   "source": [
    "text = \"pynative\"\n",
    "print(text[1])\n",
    "print(len(text))\n",
    "print(type(text))"
   ]
  },
  {
   "cell_type": "code",
   "execution_count": null,
   "metadata": {},
   "outputs": [],
   "source": [
    "# Exercise 3:\n",
    "\n",
    "string = input(\"Enter a string\")\n",
    "print(\"Orginal String is \", string)\n",
    "print(\"Printing only even index chars\")\n",
    "for i in range(len(string)):\n",
    "\n",
    "    if i % 2 == 0:\n",
    "        print(string[i])"
   ]
  },
  {
   "cell_type": "code",
   "execution_count": null,
   "metadata": {},
   "outputs": [],
   "source": [
    "# accept input string from a user\n",
    "word = input('Enter word ')\n",
    "print(\"Original String:\", word)\n",
    "\n",
    "# get the length of a string\n",
    "size = len(word)\n",
    "\n",
    "# iterate a each character of a string\n",
    "# start: 0 to start with first character\n",
    "# stop: size-1 because index starts with 0\n",
    "# step: 2 to get the characters present at even index like 0, 2, 4\n",
    "print(\"Printing only even index chars\")\n",
    "for i in range(0, size - 1):\n",
    "    print(\"index[\", i, \"]\", word[i])"
   ]
  },
  {
   "cell_type": "code",
   "execution_count": null,
   "metadata": {},
   "outputs": [],
   "source": []
  },
  {
   "cell_type": "code",
   "execution_count": null,
   "metadata": {},
   "outputs": [],
   "source": [
    "chars = \"education\"\n",
    "t = ''\n",
    "print(type(t))\n",
    "char_len = len(chars)\n",
    "print(char_len)\n",
    "print(chars[2:])\n",
    "# for i in range(2, 9):\n",
    "#     t += chars[i]\n",
    "#     print(i,': ', chars[i])\n",
    "#     # print(type(t))\n",
    "#     # print(chars[i])\n",
    "# print(t)\n",
    "# print(type(t))"
   ]
  },
  {
   "cell_type": "raw",
   "metadata": {},
   "source": []
  },
  {
   "cell_type": "code",
   "execution_count": null,
   "metadata": {},
   "outputs": [],
   "source": [
    "# Exercise 4: Remove first n characters from a string\n",
    "\n",
    "def remove_chars(char, val):\n",
    "    chars_len = len(char)\n",
    "    char = char[val:]\n",
    "    print(char)\n",
    "    # remaining_chars = ''\n",
    "\n",
    "\n",
    "    # for i in range(val, chars_len):\n",
    "    #     remaining_chars += char[i]\n",
    "    #\n",
    "    # print(remaining_chars)\n",
    "\n",
    "\n",
    "remove_chars(\"akash\", 2)\n",
    "remove_chars(\"pynative\", 4)\n",
    "remove_chars(\"pynative\", 2)\n"
   ]
  },
  {
   "cell_type": "code",
   "execution_count": null,
   "metadata": {},
   "outputs": [],
   "source": [
    "def remove_chars(word, n):\n",
    "    print('Original string:', word)\n",
    "    x = word[n:]\n",
    "    return x\n",
    "\n",
    "print(\"Removing characters from a string\")\n",
    "print(remove_chars(\"pynative\", 4))\n",
    "print(remove_chars(\"pynative\", 2))\n",
    "\n"
   ]
  },
  {
   "cell_type": "markdown",
   "source": [
    "Exercise 5: Check if the first and last number of a list is the same"
   ],
   "metadata": {
    "collapsed": false
   }
  },
  {
   "cell_type": "code",
   "execution_count": null,
   "outputs": [],
   "source": [
    "my_list = [12, 34, 56, 23]\n",
    "max_index = my_list[-1]\n",
    "print(max_index)\n",
    "print(my_list[-1])"
   ],
   "metadata": {
    "collapsed": false
   }
  },
  {
   "cell_type": "code",
   "execution_count": null,
   "outputs": [],
   "source": [
    "def is_first_and_last_value_in_list_equal(given_list):\n",
    "    max_index = len(given_list)\n",
    "\n",
    "    if given_list[0] == given_list[max_index-1]:\n",
    "\n",
    "        # print(f\"Given list: {given_list}\\nResult is True\")\n",
    "        return True\n",
    "\n",
    "\n",
    "    else:\n",
    "        # print(f\"Given list: {given_list}\\nResult is False\")\n",
    "        return False\n",
    "\n",
    "\n",
    "numbers_x = [10, 20, 30, 40, 10]\n",
    "numbers_y = [75, 65, 35, 75, 30]\n",
    "print(is_first_and_last_value_in_list_equal(numbers_x))\n",
    "print(is_first_and_last_value_in_list_equal(numbers_y))\n"
   ],
   "metadata": {
    "collapsed": false
   }
  },
  {
   "cell_type": "code",
   "execution_count": null,
   "outputs": [],
   "source": [
    "def first_last_same(numberList):\n",
    "    print(\"Given list:\", numberList)\n",
    "\n",
    "    first_num = numberList[0]\n",
    "    last_num = numberList[-1]\n",
    "\n",
    "    if first_num == last_num:\n",
    "        return True\n",
    "    else:\n",
    "        return False\n",
    "\n",
    "numbers_x = [10, 20, 30, 40, 10]\n",
    "print(\"result is\", first_last_same(numbers_x))\n",
    "\n",
    "numbers_y = [75, 65, 35, 75, 30]\n",
    "print(\"result is\", first_last_same(numbers_y))"
   ],
   "metadata": {
    "collapsed": false
   }
  },
  {
   "cell_type": "markdown",
   "source": [
    "Exercise 6: Display numbers divisible by 5 from a list"
   ],
   "metadata": {
    "collapsed": false
   }
  },
  {
   "cell_type": "markdown",
   "source": [],
   "metadata": {
    "collapsed": false
   }
  },
  {
   "cell_type": "code",
   "execution_count": null,
   "outputs": [],
   "source": [
    "def check_divisible_5(given_list):\n",
    "    length_given_list = len(given_list)\n",
    "    print(given_list)\n",
    "    for i in range(length_given_list):\n",
    "        # print(given_list[i])\n",
    "        if given_list[i] % 5 == 0:\n",
    "            print(given_list[i])\n",
    "\n",
    "\n",
    "given_list = [10, 20, 33, 46, 55]\n",
    "\n",
    "check_divisible_5(given_list)"
   ],
   "metadata": {
    "collapsed": false
   }
  },
  {
   "cell_type": "markdown",
   "source": [
    "Exercise 7: Return the count of a given substring from a string"
   ],
   "metadata": {
    "collapsed": false
   }
  },
  {
   "cell_type": "code",
   "execution_count": null,
   "outputs": [],
   "source": [
    "str_x = \"Emma is good developer. Emma is a writer\"\n",
    "\n",
    "list_x = str_x.split(\" \")\n",
    "count = 0\n",
    "for i in list_x:\n",
    "    if \"developer.\" == i:\n",
    "        count += 1\n",
    "\n",
    "print(count)"
   ],
   "metadata": {
    "collapsed": false
   }
  },
  {
   "cell_type": "code",
   "execution_count": null,
   "outputs": [],
   "source": [
    "count = str_x.count(\"Emma\",)\n",
    "print(count)"
   ],
   "metadata": {
    "collapsed": false
   }
  },
  {
   "cell_type": "markdown",
   "source": [
    "Exercise 8: Print the following pattern"
   ],
   "metadata": {
    "collapsed": false
   }
  },
  {
   "cell_type": "code",
   "execution_count": null,
   "outputs": [],
   "source": [
    "k = 0\n",
    "\n",
    "for i in range(1,6):\n",
    "    # k += 1\n",
    "\n",
    "    for j in range(i):\n",
    "        print(i, end=\" \")\n",
    "\n",
    "    print(\"\\n\")\n",
    "\n",
    "print(k)\n"
   ],
   "metadata": {
    "collapsed": false
   }
  },
  {
   "cell_type": "code",
   "execution_count": null,
   "outputs": [],
   "source": [
    "for num in range(10):\n",
    "    for i in range(num):\n",
    "        print (num, end=\" \") #print number\n",
    "    # new line after each row to display pattern correctly\n",
    "    print(\"\\n\")"
   ],
   "metadata": {
    "collapsed": false
   }
  },
  {
   "cell_type": "markdown",
   "source": [
    "Exercise 9: Check Palindrome Number"
   ],
   "metadata": {
    "collapsed": false
   }
  },
  {
   "cell_type": "code",
   "execution_count": null,
   "outputs": [],
   "source": [
    "string = input(\"enter number\")\n",
    "rev_string = \"\"\n",
    "for i in range(1, len(string)+1):\n",
    "    # print(string[-i])\n",
    "    rev_string += string[-i]\n",
    "\n",
    "if rev_string == string:\n",
    "    print(f\"Yes, given string {string} is palindrome number\")\n",
    "else:\n",
    "    print(f\"No, given string {string} is not palindrome number\")\n"
   ],
   "metadata": {
    "collapsed": false
   }
  },
  {
   "cell_type": "code",
   "execution_count": null,
   "outputs": [],
   "source": [
    "def palindrome(number):\n",
    "    print(\"original number\", number)\n",
    "    original_num = number\n",
    "\n",
    "    # reverse the given number\n",
    "    reverse_num = 0\n",
    "    while number > 0:\n",
    "        reminder = number % 10\n",
    "        reverse_num = (reverse_num * 10) + reminder\n",
    "        number = number // 10\n",
    "        print(number)\n",
    "    # check numbers\n",
    "    if original_num == reverse_num:\n",
    "        print(\"Given number palindrome\")\n",
    "    else:\n",
    "        print(\"Given number is not palindrome\")\n",
    "\n",
    "palindrome(121)\n",
    "palindrome(125)"
   ],
   "metadata": {
    "collapsed": false
   }
  },
  {
   "cell_type": "markdown",
   "source": [
    "Exercise 10: Create a new list from a two list using the following condition"
   ],
   "metadata": {
    "collapsed": false
   }
  },
  {
   "cell_type": "code",
   "execution_count": null,
   "outputs": [],
   "source": [
    "def odd_even_list(list1, list2):\n",
    "    new_list = []\n",
    "    for i in range(0, len(list1)):\n",
    "        if not list1[i] % 2 == 0:\n",
    "            new_list.append(list1[i])\n",
    "\n",
    "    for i in range(0, len(list2)):\n",
    "        if list2[i] % 2 == 0:\n",
    "            new_list.append(list2[i])\n",
    "\n",
    "    print(new_list)\n",
    "\n",
    "odd_even_list([10, 20, 25, 74, 89], [40, 45, 60, 75, 90])"
   ],
   "metadata": {
    "collapsed": false
   }
  },
  {
   "cell_type": "code",
   "execution_count": null,
   "outputs": [],
   "source": [
    "\n",
    "list1 = [10, 20, 25, 74, 89]\n",
    "for i in list1:\n",
    "    print(i)\n"
   ],
   "metadata": {
    "collapsed": false
   }
  },
  {
   "cell_type": "markdown",
   "source": [
    "Exercise 11: Write a Program to extract each digit from an integer in the reverse order."
   ],
   "metadata": {
    "collapsed": false
   }
  },
  {
   "cell_type": "code",
   "execution_count": null,
   "outputs": [],
   "source": [
    "def rev_int(given_int):\n",
    "    new_int = \"\"\n",
    "    for i in range(1, len(given_int)+1):\n",
    "        new_int += given_int[-i]\n",
    "        new_int += \" \"\n",
    "    return new_int\n",
    "\n",
    "print(rev_int(\"8687\"))"
   ],
   "metadata": {
    "collapsed": false
   }
  },
  {
   "cell_type": "markdown",
   "source": [
    "Exercise 12: Calculate income tax for the given income by adhering to the below rules"
   ],
   "metadata": {
    "collapsed": false
   }
  },
  {
   "cell_type": "code",
   "execution_count": null,
   "outputs": [],
   "source": [
    "def cal_tax(income):\n",
    "    tax_amount = 0\n",
    "    if income <= 10000:\n",
    "        tax_amount = 0\n",
    "    elif income <= 20000:\n",
    "        tax_amount = (income - 10000) * (10/100)\n",
    "    else:\n",
    "        tax_amount = (income - 20000) * (20/100) + (10000 * 10/100)\n",
    "\n",
    "    return tax_amount\n",
    "\n",
    "print(cal_tax(23000))"
   ],
   "metadata": {
    "collapsed": false
   }
  },
  {
   "cell_type": "markdown",
   "source": [
    "Exercise 13: Print multiplication table form 1 to 10"
   ],
   "metadata": {
    "collapsed": false
   }
  },
  {
   "cell_type": "code",
   "execution_count": null,
   "outputs": [],
   "source": [
    "for i in range(1, 11):\n",
    "    for j in range(1, 11):\n",
    "        print(j*i, end=\" \")\n",
    "\n",
    "    print(\" \")"
   ],
   "metadata": {
    "collapsed": false
   }
  },
  {
   "cell_type": "code",
   "execution_count": null,
   "outputs": [],
   "source": [
    "for num in range(10):\n",
    "    for i in range(num):\n",
    "        print (num, end=\" \") #print number\n",
    "    # new line after each row to display pattern correctly\n",
    "    print(\"\\t\")"
   ],
   "metadata": {
    "collapsed": false
   }
  },
  {
   "cell_type": "code",
   "execution_count": null,
   "outputs": [],
   "source": [
    "for i in range(10):\n",
    "    print(i, end=\" *\")\n",
    "    print(\"\\t\")\n"
   ],
   "metadata": {
    "collapsed": false
   }
  },
  {
   "cell_type": "markdown",
   "source": [
    "Exercise 14: Print downward Half-Pyramid Pattern with Star (asterisk)"
   ],
   "metadata": {
    "collapsed": false
   }
  },
  {
   "cell_type": "code",
   "execution_count": null,
   "outputs": [],
   "source": [
    "for i in range(1, 6):\n",
    "    for j in range(6 - i):\n",
    "        print(\"*\", end=\" \")\n",
    "\n",
    "    print(\" \")"
   ],
   "metadata": {
    "collapsed": false
   }
  },
  {
   "cell_type": "code",
   "execution_count": null,
   "outputs": [],
   "source": [
    "for i in range(6, 0, -1):\n",
    "    print(i)\n",
    "    for j in range(0, i - 1):\n",
    "        print(\"*\", end=' ')\n",
    "    print(\" \")"
   ],
   "metadata": {
    "collapsed": false
   }
  },
  {
   "cell_type": "markdown",
   "source": [
    "Exercise 15: Write a function called exponent(base, exp) that returns an int value of base raises to the power of exp."
   ],
   "metadata": {
    "collapsed": false
   }
  },
  {
   "cell_type": "code",
   "execution_count": null,
   "outputs": [],
   "source": [
    "def exponent(base, exp):\n",
    "    value = base ** exp\n",
    "    return value\n",
    "base = 2\n",
    "exp = 5\n",
    "print(f\"{base} base raise to exponent {exp} =\", exponent(base, exp))"
   ],
   "metadata": {
    "collapsed": false
   }
  },
  {
   "cell_type": "code",
   "execution_count": 1,
   "outputs": [
    {
     "name": "stdout",
     "output_type": "stream",
     "text": [
      "i= 3\n",
      "3 i= 9\n",
      "9 i= 7\n",
      "7 i= 1\n",
      "1 "
     ]
    }
   ],
   "source": [
    "#Write a program to extract  each digit from an integer in the reverse order\n",
    "\n",
    "def extract(number):\n",
    "    # pass\n",
    "    reverse_list = []\n",
    "\n",
    "    for i in number[::-2]:\n",
    "        print(\"i=\",i)\n",
    "        reverse_list = i\n",
    "\n",
    "        print(reverse_list, end = \" \")\n",
    "\n",
    "extract(input(\"enter the digits >> \"))"
   ],
   "metadata": {
    "collapsed": false
   }
  },
  {
   "cell_type": "code",
   "execution_count": null,
   "outputs": [],
   "source": [],
   "metadata": {
    "collapsed": false
   }
  }
 ],
 "metadata": {
  "kernelspec": {
   "display_name": "Python 3 (ipykernel)",
   "language": "python",
   "name": "python3"
  },
  "language_info": {
   "codemirror_mode": {
    "name": "ipython",
    "version": 3
   },
   "file_extension": ".py",
   "mimetype": "text/x-python",
   "name": "python",
   "nbconvert_exporter": "python",
   "pygments_lexer": "ipython3",
   "version": "3.11.0"
  }
 },
 "nbformat": 4,
 "nbformat_minor": 1
}
