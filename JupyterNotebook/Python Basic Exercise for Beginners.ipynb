{
 "cells": [
  {
   "cell_type": "code",
   "execution_count": null,
   "metadata": {},
   "outputs": [],
   "source": [
    "number1 = int(input(\"numner1 = \"))\n",
    "number2 = int(input(\"number2 = \"))\n",
    "\n",
    "if number1 * number2 <= 1000:\n",
    "    print(\"The product is \", number1 * number2)\n",
    "else:\n",
    "    print(\"The result is \", number1 + number2)\n",
    "\n"
   ]
  },
  {
   "cell_type": "code",
   "execution_count": null,
   "metadata": {},
   "outputs": [],
   "source": [
    "# Doing the above problem in different manner\n",
    "\n",
    "def calculation(num_1, num_2):\n",
    "    product = num_1 * num_2\n",
    "\n",
    "    if product <= 1000:\n",
    "        return product\n",
    "    else:\n",
    "        return num_1 + num_2\n",
    "\n",
    "result = calculation(20, 30)\n",
    "print(result)\n",
    "\n",
    "result = calculation(40, 30)\n",
    "print(result)"
   ]
  },
  {
   "cell_type": "code",
   "execution_count": null,
   "metadata": {},
   "outputs": [],
   "source": [
    "# Exercise 2\n",
    "\n",
    "\n",
    "previous_num = 0\n",
    "for i in range(10):\n",
    "    print(f\"Current Number {i} Previous Number {previous_num} Sum: {i + previous_num}\")\n",
    "    previous_num = i"
   ]
  },
  {
   "cell_type": "code",
   "execution_count": null,
   "metadata": {},
   "outputs": [],
   "source": [
    "text = \"pynative\"\n",
    "print(text[1])\n",
    "print(len(text))\n",
    "print(type(text))"
   ]
  },
  {
   "cell_type": "code",
   "execution_count": null,
   "metadata": {},
   "outputs": [],
   "source": [
    "# Exercise 3:\n",
    "\n",
    "string = input(\"Enter a string\")\n",
    "print(\"Orginal String is \", string)\n",
    "print(\"Printing only even index chars\")\n",
    "for i in range(len(string)):\n",
    "\n",
    "    if i % 2 == 0:\n",
    "        print(string[i])"
   ]
  },
  {
   "cell_type": "code",
   "execution_count": null,
   "metadata": {},
   "outputs": [],
   "source": [
    "# accept input string from a user\n",
    "word = input('Enter word ')\n",
    "print(\"Original String:\", word)\n",
    "\n",
    "# get the length of a string\n",
    "size = len(word)\n",
    "\n",
    "# iterate a each character of a string\n",
    "# start: 0 to start with first character\n",
    "# stop: size-1 because index starts with 0\n",
    "# step: 2 to get the characters present at even index like 0, 2, 4\n",
    "print(\"Printing only even index chars\")\n",
    "for i in range(0, size - 1):\n",
    "    print(\"index[\", i, \"]\", word[i])"
   ]
  },
  {
   "cell_type": "code",
   "execution_count": null,
   "metadata": {},
   "outputs": [],
   "source": []
  },
  {
   "cell_type": "code",
   "execution_count": null,
   "metadata": {},
   "outputs": [],
   "source": [
    "chars = \"education\"\n",
    "t = ''\n",
    "print(type(t))\n",
    "char_len = len(chars)\n",
    "print(char_len)\n",
    "print(chars[2:])\n",
    "# for i in range(2, 9):\n",
    "#     t += chars[i]\n",
    "#     print(i,': ', chars[i])\n",
    "#     # print(type(t))\n",
    "#     # print(chars[i])\n",
    "# print(t)\n",
    "# print(type(t))"
   ]
  },
  {
   "cell_type": "raw",
   "metadata": {},
   "source": []
  },
  {
   "cell_type": "code",
   "execution_count": null,
   "metadata": {},
   "outputs": [],
   "source": [
    "# Exercise 4: Remove first n characters from a string\n",
    "\n",
    "def remove_chars(char, val):\n",
    "    chars_len = len(char)\n",
    "    char = char[val:]\n",
    "    print(char)\n",
    "    # remaining_chars = ''\n",
    "\n",
    "\n",
    "    # for i in range(val, chars_len):\n",
    "    #     remaining_chars += char[i]\n",
    "    #\n",
    "    # print(remaining_chars)\n",
    "\n",
    "\n",
    "remove_chars(\"akash\", 2)\n",
    "remove_chars(\"pynative\", 4)\n",
    "remove_chars(\"pynative\", 2)\n"
   ]
  },
  {
   "cell_type": "code",
   "execution_count": null,
   "metadata": {},
   "outputs": [],
   "source": [
    "def remove_chars(word, n):\n",
    "    print('Original string:', word)\n",
    "    x = word[n:]\n",
    "    return x\n",
    "\n",
    "print(\"Removing characters from a string\")\n",
    "print(remove_chars(\"pynative\", 4))\n",
    "print(remove_chars(\"pynative\", 2))\n",
    "\n"
   ]
  },
  {
   "cell_type": "markdown",
   "source": [
    "Exercise 5: Check if the first and last number of a list is the same"
   ],
   "metadata": {
    "collapsed": false
   }
  },
  {
   "cell_type": "code",
   "execution_count": 22,
   "outputs": [
    {
     "name": "stdout",
     "output_type": "stream",
     "text": [
      "23\n",
      "23\n"
     ]
    }
   ],
   "source": [
    "my_list = [12, 34, 56, 23]\n",
    "max_index = my_list[-1]\n",
    "print(max_index)\n",
    "print(my_list[-1])"
   ],
   "metadata": {
    "collapsed": false
   }
  },
  {
   "cell_type": "code",
   "execution_count": 18,
   "outputs": [
    {
     "name": "stdout",
     "output_type": "stream",
     "text": [
      "True\n",
      "False\n"
     ]
    }
   ],
   "source": [
    "def is_first_and_last_value_in_list_equal(given_list):\n",
    "    max_index = len(given_list)\n",
    "\n",
    "    if given_list[0] == given_list[max_index-1]:\n",
    "\n",
    "        # print(f\"Given list: {given_list}\\nResult is True\")\n",
    "        return True\n",
    "\n",
    "\n",
    "    else:\n",
    "        # print(f\"Given list: {given_list}\\nResult is False\")\n",
    "        return False\n",
    "\n",
    "\n",
    "numbers_x = [10, 20, 30, 40, 10]\n",
    "numbers_y = [75, 65, 35, 75, 30]\n",
    "print(is_first_and_last_value_in_list_equal(numbers_x))\n",
    "print(is_first_and_last_value_in_list_equal(numbers_y))\n"
   ],
   "metadata": {
    "collapsed": false
   }
  },
  {
   "cell_type": "code",
   "execution_count": 15,
   "outputs": [
    {
     "name": "stdout",
     "output_type": "stream",
     "text": [
      "Given list: [10, 20, 30, 40, 10]\n",
      "result is True\n",
      "Given list: [75, 65, 35, 75, 30]\n",
      "result is False\n"
     ]
    }
   ],
   "source": [
    "def first_last_same(numberList):\n",
    "    print(\"Given list:\", numberList)\n",
    "\n",
    "    first_num = numberList[0]\n",
    "    last_num = numberList[-1]\n",
    "\n",
    "    if first_num == last_num:\n",
    "        return True\n",
    "    else:\n",
    "        return False\n",
    "\n",
    "numbers_x = [10, 20, 30, 40, 10]\n",
    "print(\"result is\", first_last_same(numbers_x))\n",
    "\n",
    "numbers_y = [75, 65, 35, 75, 30]\n",
    "print(\"result is\", first_last_same(numbers_y))"
   ],
   "metadata": {
    "collapsed": false
   }
  }
 ],
 "metadata": {
  "kernelspec": {
   "display_name": "Python 3 (ipykernel)",
   "language": "python",
   "name": "python3"
  },
  "language_info": {
   "codemirror_mode": {
    "name": "ipython",
    "version": 3
   },
   "file_extension": ".py",
   "mimetype": "text/x-python",
   "name": "python",
   "nbconvert_exporter": "python",
   "pygments_lexer": "ipython3",
   "version": "3.11.0"
  }
 },
 "nbformat": 4,
 "nbformat_minor": 1
}
