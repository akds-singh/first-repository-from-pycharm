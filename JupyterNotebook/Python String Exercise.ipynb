{
 "cells": [
  {
   "cell_type": "markdown",
   "source": [
    "Exercise 1A: Create a string made of the first, middle and last character"
   ],
   "metadata": {
    "collapsed": false
   }
  },
  {
   "cell_type": "code",
   "execution_count": null,
   "metadata": {
    "collapsed": true
   },
   "outputs": [],
   "source": [
    "strs = \"James\"\n",
    "middle_index = int(len(strs)/2)\n",
    "print(middle_index)\n",
    "print(strs[0] + strs[middle_index] + strs[-1])"
   ]
  },
  {
   "cell_type": "markdown",
   "source": [
    "Exercise 1B: Create a string made of the middle three characters"
   ],
   "metadata": {
    "collapsed": false
   }
  },
  {
   "cell_type": "code",
   "execution_count": null,
   "outputs": [],
   "source": [
    "str1 = \"JhonDipPeta\"\n",
    "middle_index = int(len(str1)/2)\n",
    "print(middle_index)\n",
    "\n",
    "print(str1[middle_index-1] + str1[middle_index]+ str1[middle_index+1])\n",
    "print(str1[middle_index-1:middle_index+2])"
   ],
   "metadata": {
    "collapsed": false
   }
  },
  {
   "cell_type": "markdown",
   "source": [
    "Exercise 2: Append new string in the middle of a given string"
   ],
   "metadata": {
    "collapsed": false
   }
  },
  {
   "cell_type": "code",
   "execution_count": null,
   "outputs": [],
   "source": [],
   "metadata": {
    "collapsed": false
   }
  },
  {
   "cell_type": "code",
   "execution_count": null,
   "outputs": [],
   "source": [
    "s1 = \"Ault\"\n",
    "s2 = \"Kelly\"\n",
    "mi_s1 = int(len(s1)/2)\n",
    "# mi_s2 = int(len(s2))\n",
    "s3 = s1[:mi_s1] + s2 + s1[mi_s1:]\n",
    "\n",
    "print(s3)"
   ],
   "metadata": {
    "collapsed": false
   }
  },
  {
   "cell_type": "markdown",
   "source": [
    "Exercise 3: Create a new string made of the first, middle, and last characters of each input string"
   ],
   "metadata": {
    "collapsed": false
   }
  },
  {
   "cell_type": "code",
   "execution_count": null,
   "outputs": [],
   "source": [
    "def str_from_fml(s1 , s2):\n",
    "    mi_s1 = int(len(s1)/2)\n",
    "    mi_s2 = int(len(s2)/2)\n",
    "    print(len(s1))\n",
    "    s3 = s1[0] + s2[0] + s1[mi_s1]+ s2[mi_s2] + s1[-1] + s2[-1]\n",
    "    return s3\n",
    "\n",
    "str_from_fml(\"America\", \"Japan\")"
   ],
   "metadata": {
    "collapsed": false
   }
  },
  {
   "cell_type": "code",
   "execution_count": null,
   "outputs": [],
   "source": [
    "str3 = \"America\"\n",
    "print(str3[::])"
   ],
   "metadata": {
    "collapsed": false
   }
  },
  {
   "cell_type": "markdown",
   "source": [
    "Exercise 4: Arrange string characters such that lowercase letters should come first"
   ],
   "metadata": {
    "collapsed": false
   }
  },
  {
   "cell_type": "code",
   "execution_count": null,
   "outputs": [],
   "source": [
    "def str_start_with_lowercase(s1):\n",
    "    s1.isalnum\n",
    "\n"
   ],
   "metadata": {
    "collapsed": false
   }
  },
  {
   "cell_type": "code",
   "execution_count": null,
   "outputs": [],
   "source": [
    "str1 = \"PyNaTive\"\n",
    "\n",
    "print(str1.islower())\n",
    "str3 = \"\"\n",
    "str4 = \"\"\n",
    "for i in str1:\n",
    "    print(i)\n",
    "    if i.islower():\n",
    "        str3 += i\n",
    "    else:\n",
    "        str4 += i\n",
    "str5= str3 + str4\n",
    "res = \"\".join(str3 + str4)\n",
    "print(str5)\n",
    "print(res)\n"
   ],
   "metadata": {
    "collapsed": false
   }
  },
  {
   "cell_type": "markdown",
   "source": [
    "Exercise 5: Count all letters, digits, and special symbols from a given string"
   ],
   "metadata": {
    "collapsed": false
   }
  },
  {
   "cell_type": "code",
   "execution_count": null,
   "outputs": [],
   "source": [
    "str1 = \"P@#yn26at^&i5ve\"\n",
    "\n",
    "count_chars =0\n",
    "count_digits = 0\n",
    "count_symbols = 0\n",
    "\n",
    "for i in str1:\n",
    "    if i.isdigit():\n",
    "        count_digits +=1\n",
    "    elif i.isalpha():\n",
    "        count_chars +=1\n",
    "    else:\n",
    "        count_symbols +=1\n",
    "\n",
    "print(f\"Chars: {count_chars}\\nDigits: {count_digits}\\nSymbols: {count_symbols}\")"
   ],
   "metadata": {
    "collapsed": false
   }
  },
  {
   "cell_type": "markdown",
   "source": [
    "Exercise 6: Create a mixed String using the following rules"
   ],
   "metadata": {
    "collapsed": false
   }
  },
  {
   "cell_type": "code",
   "execution_count": null,
   "outputs": [],
   "source": [
    "s1 = \"Abc\"\n",
    "s2 = \"Xyz\"\n",
    "\n",
    "for i in s1:\n",
    "    for j in s2:\n"
   ],
   "metadata": {
    "collapsed": false
   }
  },
  {
   "cell_type": "code",
   "execution_count": null,
   "outputs": [],
   "source": [
    "s1 = \"akash\"\n",
    "s2 = \"raj\"\n",
    "\n",
    "\n",
    "\n"
   ],
   "metadata": {
    "collapsed": false
   }
  },
  {
   "cell_type": "code",
   "execution_count": null,
   "outputs": [],
   "source": [
    "s1 = \"akash\"\n",
    "s2 = \"raj\"\n",
    "max(s1, s2 , key=len)\n",
    "\n",
    "reb_s1 = s1[6::-2]\n",
    "print(reb_s1)"
   ],
   "metadata": {
    "collapsed": false
   }
  },
  {
   "cell_type": "code",
   "execution_count": null,
   "outputs": [],
   "source": [
    "# Adding first string to a list\n",
    "list_s1 =[]\n",
    "for letter in s1:\n",
    " list_s1 += letter\n",
    "\n",
    "\n",
    "# Adding second string to a list\n",
    "list_s2 = []\n",
    "for letter in s2:\n",
    "    list_s2 += letter\n",
    "\n",
    "\n",
    "\n",
    "\n",
    "increment = 0\n",
    "min_length = min(len(s1), len(s2))\n",
    "s1_index_value = []\n",
    "s2_index_value = []\n",
    "combine_strs = []\n",
    "\n",
    "# Fetching first letter from first string and last letter from second  string then combine them , and again fetching second letter from first string and second-last letter form second string then combine them and so on.\n",
    "for i in range(min_length):\n",
    "    s1_index_value = list_s1[0+increment]\n",
    "    s2_index_value = list_s2[-1-increment]\n",
    "    combine_strs += s1_index_value + s2_index_value\n",
    "    increment += 1\n",
    "# Finding out the largest string and fetch extra letters from it and then combine with above resulted combined string.\n",
    "print(increment)\n",
    "\n",
    "max_str = max(s1, s2, key=len)\n",
    "\n",
    "extra = max_str[increment:]\n",
    "combine = \"\".join(combine_strs) + extra\n",
    "# for letter in max_str:\n",
    "#     print(letter)\n",
    "#     extra_strs += max_str[increment]\n",
    "#     increment += 1\n",
    "\n",
    "print(\"\".join(combine_strs))\n",
    "print(f\"This is our required string: {combine}\")\n",
    "print(increment)\n",
    "print(extra)"
   ],
   "metadata": {
    "collapsed": false
   }
  },
  {
   "cell_type": "code",
   "execution_count": null,
   "outputs": [],
   "source": [
    "def combining_strs(s1 , s2):\n",
    "    # Adding first string to a list\n",
    "    list_s1 =[]\n",
    "    for letter in s1:\n",
    "        list_s1 += letter\n",
    "\n",
    "\n",
    "    # Adding second string to a list\n",
    "    list_s2 = []\n",
    "    for letter in s2:\n",
    "        list_s2 += letter\n",
    "\n",
    "\n",
    "\n",
    "\n",
    "    increment = 0\n",
    "    min_length = min(len(s1), len(s2))\n",
    "    s1_index_value = []\n",
    "    s2_index_value = []\n",
    "    combine_strs = []\n",
    "\n",
    "    # Fetching first letter from first string and last letter from second  string then combine them , and again fetching second letter from first string and second-last letter form second string then combine them and so on.\n",
    "    for i in range(min_length):\n",
    "        s1_index_value = list_s1[0+increment]\n",
    "        s2_index_value = list_s2[-1-increment]\n",
    "        combine_strs += s1_index_value + s2_index_value\n",
    "        increment += 1\n",
    "    # Finding out the largest string and fetch extra letters from it and then combine with above resulted combined string.\n",
    "    # print(increment)\n",
    "\n",
    "    max_str = max(s1, s2, key=len)\n",
    "\n",
    "    extra = max_str[increment:]\n",
    "    combine = \"\".join(combine_strs) + extra\n",
    "    # for letter in max_str:\n",
    "    #     print(letter)\n",
    "    #     extra_strs += max_str[increment]\n",
    "    #     increment += 1\n",
    "\n",
    "    # print(\"\".join(combine_strs))\n",
    "    print(f\"This is our required string: {combine}\")\n",
    "    # print(increment)\n",
    "    # print(extra)\n",
    "\n",
    "\n",
    "combining_strs(\"akash\", \"raj\")"
   ],
   "metadata": {
    "collapsed": false
   }
  },
  {
   "cell_type": "code",
   "execution_count": null,
   "outputs": [],
   "source": [
    "combining_strs(\"akash\", \"raj\")"
   ],
   "metadata": {
    "collapsed": false
   }
  },
  {
   "cell_type": "code",
   "execution_count": null,
   "outputs": [],
   "source": [
    "s1 = \"Abc\"\n",
    "s2 = \"Xyz\"\n",
    "\n",
    "# get string length\n",
    "s1_length = len(s1)\n",
    "s2_length = len(s2)\n",
    "\n",
    "# get length of a bigger string\n",
    "length = s1_length if s1_length > s2_length else s2_length\n",
    "result = \"\"\n",
    "print(length)\n",
    "# reverse s2\n",
    "s2 = s2[::-1]\n",
    "\n",
    "# iterate string\n",
    "# s1 ascending and s2 descending\n",
    "for i in range(length):\n",
    "\n",
    "    if i < s1_length:\n",
    "        result = result + s1[i]\n",
    "    if i < s2_length:\n",
    "        result = result + s2[i]\n",
    "\n",
    "print(result)"
   ],
   "metadata": {
    "collapsed": false
   }
  },
  {
   "cell_type": "code",
   "execution_count": null,
   "outputs": [],
   "source": [
    "combining_strs(\"akash\", \"raj\")"
   ],
   "metadata": {
    "collapsed": false
   }
  },
  {
   "cell_type": "code",
   "execution_count": null,
   "outputs": [],
   "source": [
    "alphabet = ['a', 'b', 'c', 'd', 'e', 'f', 'g', 'h', 'i', 'j', 'k', 'l', 'm', 'n', 'o', 'p', 'q', 'r', 's', 't', 'u', 'v', 'w', 'x', 'y', 'z', 'a', 'b', 'c', 'd', 'e', 'f', 'g', 'h', 'i', 'j', 'k', 'l', 'm', 'n', 'o', 'p', 'q', 'r', 's', 't', 'u', 'v', 'w', 'x', 'y', 'z']\n",
    "\n",
    "direction = input(\"Type 'encode' to encrypt, type 'decode' to decrypt:\\n\")\n",
    "text = input(\"Type your message:\\n\").lower()\n",
    "shift = int(input(\"Type the shift number:\\n\"))\n",
    "\n",
    "#TODO-1: Combine the encrypt() and decrypt() functions into a single function called caesar().\n",
    "\n",
    "# def encrypt(plain_text, shift_amount):\n",
    "#   cipher_text = \"\"\n",
    "#   for letter in plain_text:\n",
    "#     position = alphabet.index(letter)\n",
    "#     new_position = position + shift_amount\n",
    "#     cipher_text += alphabet[new_position]\n",
    "#   print(f\"The encoded text is {cipher_text}\")\n",
    "\n",
    "# def decrypt(cipher_text, shift_amount):\n",
    "#   plain_text = \"\"\n",
    "#   for letter in cipher_text:\n",
    "#     position = alphabet.index(letter)\n",
    "#     new_position = position - shift_amount\n",
    "#     plain_text += alphabet[new_position]\n",
    "#   print(f\"The decoded text is {plain_text}\")\n",
    "\n",
    "# if direction == \"encode\":\n",
    "#   encrypt(plain_text=text, shift_amount=shift)\n",
    "# elif direction == \"decode\":\n",
    "#   decrypt(cipher_text=text, shift_amount=shift)\n",
    "\n",
    "#TODO-2: Call the caesar() function, passing over the 'text', 'shift' and 'direction' values.\n",
    "def caesar(user_direction, plain_text, shift_amount):\n",
    "\n",
    "  if user_direction == \"encode\":\n",
    "    cipher_text = \"\"\n",
    "    for letter in plain_text:\n",
    "      position = alphabet.index(letter)\n",
    "      new_position = position + shift_amount\n",
    "      cipher_text += alphabet[new_position]\n",
    "\n",
    "    print(f\"The encoded text is {cipher_text}\")\n",
    "\n",
    "  elif user_direction == \"decode\":\n",
    "    plain_text = \"\"\n",
    "    for letter in cipher_text:\n",
    "      position = alphabet.index(letter)\n",
    "      new_position = position - shift_amount\n",
    "      plain_text += alphabet[new_position]\n",
    "\n",
    "    print(f\"The decoded text is {plain_text}\")\n",
    "\n",
    "\n",
    "\n",
    "\n",
    "\n",
    "\n",
    "caesar(user_direction= text, plain_text=text, shift_amount=shift)"
   ],
   "metadata": {
    "collapsed": false
   }
  },
  {
   "cell_type": "markdown",
   "source": [
    "Exercise 7: String characters balance Test"
   ],
   "metadata": {
    "collapsed": false
   }
  },
  {
   "cell_type": "code",
   "execution_count": null,
   "outputs": [],
   "source": [
    "def is_strs_balanced(s1, s2):\n",
    "    min_str = min(s1, s2, key=len)\n",
    "    max_str = max(s1, s2, key=len)\n",
    "    isbalance = True\n",
    "    for letter in min_str:\n",
    "        if letter in max_str:\n",
    "            isbalance = True\n",
    "        else:\n",
    "            isbalance = False\n",
    "            break\n",
    "    print(isbalance)\n",
    "\n",
    "\n",
    "is_strs_balanced(\"akds\", \"akdsttt\")"
   ],
   "metadata": {
    "collapsed": false
   }
  },
  {
   "cell_type": "code",
   "execution_count": null,
   "outputs": [],
   "source": [
    "\n",
    "def count_substring(substring, big_string ):\n",
    "\n",
    "    lower_big_string = str1.lower()\n",
    "    count_str = lower_big_string.count(substring.lower())\n",
    "\n",
    "    return count_str\n",
    "\n",
    "s1 = \"Welcome to USA. usa awesome, isn't it?\"\n",
    "s2 = \"ELt\"\n",
    "num_count = count_substring(substring=s2, big_string=s1)\n",
    "print(num_count)"
   ],
   "metadata": {
    "collapsed": false
   }
  },
  {
   "cell_type": "markdown",
   "source": [
    "Exercise 9: Calculate the sum and average of the digits present in a string"
   ],
   "metadata": {
    "collapsed": false
   }
  },
  {
   "cell_type": "code",
   "execution_count": null,
   "outputs": [],
   "source": [
    "s1 = \"PYnative29@#8496\"\n",
    "\n",
    "count_nums = 0\n",
    "sum_nums = 0\n",
    "\n",
    "for letter in s1:\n",
    "    if letter.isdigit():\n",
    "        sum_nums += int(letter)\n",
    "        count_nums += 1\n",
    "    else:\n",
    "        continue\n",
    "\n",
    "avg_nums = sum_nums / count_nums\n",
    "\n",
    "print(sum_nums, avg_nums)\n"
   ],
   "metadata": {
    "collapsed": false
   }
  },
  {
   "cell_type": "markdown",
   "source": [
    "Exercise 10: Write a program to count occurrences of all characters within a string"
   ],
   "metadata": {
    "collapsed": false
   }
  },
  {
   "cell_type": "code",
   "execution_count": null,
   "outputs": [],
   "source": [
    "str1 = \"Apple\"\n",
    "\n",
    "dict_str1_count = {}\n",
    "# count_letter = 0\n",
    "\n",
    "for letter in str1:\n",
    "\n",
    "    count_letter = str1.count(letter)\n",
    "\n",
    "    dict_str1_count[letter] = count_letter\n",
    "\n",
    "print(dict_str1_count)"
   ],
   "metadata": {
    "collapsed": false
   }
  },
  {
   "cell_type": "code",
   "execution_count": null,
   "outputs": [],
   "source": [
    "s1 = \"akds\"\n",
    "\n",
    "d1 = {\"a\":1 , \"b\":2}\n",
    "\n",
    "d1[\"c\"] = 3\n",
    "\n",
    "print(d1)"
   ],
   "metadata": {
    "collapsed": false
   }
  },
  {
   "cell_type": "markdown",
   "source": [
    "Exercise 11: Reverse a given string"
   ],
   "metadata": {
    "collapsed": false
   }
  },
  {
   "cell_type": "code",
   "execution_count": null,
   "outputs": [],
   "source": [
    "str1 = \"PYnative\"\n",
    "l1 = []\n",
    "for position in range(1, len(str1)+1):\n",
    "    l1 += str1[-position]\n",
    "\n",
    "print(\"\".join(l1))\n",
    "\n",
    "print(''.join(reversed(str1)))\n"
   ],
   "metadata": {
    "collapsed": false
   }
  },
  {
   "cell_type": "code",
   "execution_count": null,
   "outputs": [],
   "source": [
    "print(str1[7:1:-1])"
   ],
   "metadata": {
    "collapsed": false
   }
  },
  {
   "cell_type": "code",
   "execution_count": null,
   "outputs": [],
   "source": [
    "print(reversed(str1))"
   ],
   "metadata": {
    "collapsed": false
   }
  },
  {
   "cell_type": "code",
   "execution_count": null,
   "outputs": [],
   "source": [
    "str1 = \"Emma is a data scientist who knows Python. Emma works at  google.\"\n",
    "\n",
    "print(len(str1))\n",
    "rev_str1 = str1[::-1]\n",
    "print(str1.index(\"is\"))\n",
    "print(rev_str1)\n",
    "str1.rindex('Emma')"
   ],
   "metadata": {
    "collapsed": false
   }
  },
  {
   "cell_type": "markdown",
   "source": [
    "Exercise 13: Split a string on hyphens\n"
   ],
   "metadata": {
    "collapsed": false
   }
  },
  {
   "cell_type": "code",
   "execution_count": null,
   "outputs": [],
   "source": [
    "str1 = \"Emma-is-a-data-scientist\"\n",
    "print(str1.split('-'))\n",
    "for element in str1.split('-'):\n",
    "    print(element)"
   ],
   "metadata": {
    "collapsed": false
   }
  },
  {
   "cell_type": "markdown",
   "source": [
    "Exercise 14: Remove empty strings from a list of strings"
   ],
   "metadata": {
    "collapsed": false
   }
  },
  {
   "cell_type": "code",
   "execution_count": null,
   "outputs": [],
   "source": [
    "str_list = [\"Emma\", \"Jon\", \"\", \"Kelly\", '232abd', None,  \"Eric\", \"\", '123']\n",
    "\n",
    "\n",
    "print(str_list)\n",
    "l1 = []\n",
    "for element in str_list:\n",
    "    if element:\n",
    "        l1 += [element]\n",
    "        # print(\"alphanumeric\", element)\n",
    "    # if element is not None and len(element) != 0:\n",
    "    #     print(element)\n",
    "    # else:\n",
    "    #     print(\"not alphanumeric\", element)\n",
    "    #     # print(element)\n",
    "print(\"list:\", l1)"
   ],
   "metadata": {
    "collapsed": false
   }
  },
  {
   "cell_type": "code",
   "execution_count": null,
   "outputs": [],
   "source": [
    "def remove_empty_strs(l1):\n",
    "    print(\"Original list of sting: \", l1)\n",
    "\n",
    "    new_list = []\n",
    "    for element in l1:\n",
    "        if element:\n",
    "            new_list += [element]\n",
    "\n",
    "    print('After removing empty strings', new_list)\n",
    "\n"
   ],
   "metadata": {
    "collapsed": false
   }
  },
  {
   "cell_type": "code",
   "execution_count": null,
   "outputs": [],
   "source": [
    "str_list = [\"Emma\", \"Jon\", \"\", \"Kelly\", None, \"Eric\", 52>10]\n",
    "\n",
    "remove_empty_strs(str_list)"
   ],
   "metadata": {
    "collapsed": false
   }
  },
  {
   "cell_type": "code",
   "execution_count": null,
   "outputs": [],
   "source": [
    "print(list(filter( None, str_list)))"
   ],
   "metadata": {
    "collapsed": false
   }
  },
  {
   "cell_type": "markdown",
   "source": [
    "Exercise 15: Remove special symbols / punctuation from a string\n"
   ],
   "metadata": {
    "collapsed": false
   }
  },
  {
   "cell_type": "code",
   "execution_count": null,
   "outputs": [],
   "source": [
    "str1 = \"/*Jon is @developer &9835 musician\"\n",
    "\n",
    "l1 = str1.split(\" \")\n",
    "l2 = []\n",
    "# s1 = \"\"\n",
    "for element in l1:\n",
    "    s1= ''\n",
    "    for i in element:\n",
    "        if i.isalnum():\n",
    "            s1 += i\n",
    "    l2 += [s1]\n",
    "print(l1)\n",
    "print(l2)\n",
    "print(\" \".join(l2))"
   ],
   "metadata": {
    "collapsed": false
   }
  },
  {
   "cell_type": "markdown",
   "source": [
    "Exercise 16: Removal all characters from a string except integers"
   ],
   "metadata": {
    "collapsed": false
   }
  },
  {
   "cell_type": "code",
   "execution_count": null,
   "outputs": [],
   "source": [
    "str1 = 'I am 25 years and 10 months old'\n",
    "dig = \" \"\n",
    "for i in str1:\n",
    "    # print(i)\n",
    "    if i.isdigit():\n",
    "        print(i)\n",
    "        dig += i\n",
    "\n",
    "print(\"dig_str:\", dig)"
   ],
   "metadata": {
    "collapsed": false
   }
  },
  {
   "cell_type": "markdown",
   "source": [],
   "metadata": {
    "collapsed": false
   }
  },
  {
   "cell_type": "code",
   "execution_count": 27,
   "outputs": [
    {
     "name": "stdout",
     "output_type": "stream",
     "text": [
      "['Emma25', 'is', 'Data', 'scientist50', 'and', 'AI', 'Expert', '10', '!@#']\n",
      "Emma25\n",
      "Emma25\n",
      "is\n",
      "Data\n",
      "scientist50\n",
      "scientist50\n",
      "and\n",
      "AI\n",
      "Expert\n",
      "10\n",
      "!@#\n"
     ]
    }
   ],
   "source": [
    "str1 = \"Emma25 is Data scientist50 and AI Expert 10 !@#\"\n",
    "list_str1 = str1.split()\n",
    "print(list_str1)\n",
    "for element in list_str1:\n",
    "    print(element)\n",
    "    # for i in element:\n",
    "    #     if i.isdigit():\n",
    "    #         print(\"str_num:\", element)\n",
    "    #         break\n",
    "    if  any(char.isalpha() for char in element) and any(char.isdigit() for char in element):\n",
    "        print(element)\n",
    "\n"
   ],
   "metadata": {
    "collapsed": false
   }
  },
  {
   "cell_type": "code",
   "execution_count": 19,
   "outputs": [
    {
     "name": "stdout",
     "output_type": "stream",
     "text": [
      "1\n",
      "2\n",
      "3\n"
     ]
    }
   ],
   "source": [
    "str2 = \"akash123\"\n",
    "\n",
    "for char in str2:\n",
    "    if char.isdigit():\n",
    "        print(char)"
   ],
   "metadata": {
    "collapsed": false
   }
  },
  {
   "cell_type": "code",
   "execution_count": 24,
   "outputs": [
    {
     "name": "stdout",
     "output_type": "stream",
     "text": [
      "The original string is : Emma25 is Data scientist50 and AI Expert 10 !@#\n",
      "['Emma25', 'is', 'Data', 'scientist50', 'and', 'AI', 'Expert', '10', '!@#']\n",
      "Emma25\n",
      "scientist50\n",
      "Displaying words with alphabets and numbers\n",
      "Emma25\n",
      "scientist50\n"
     ]
    }
   ],
   "source": [
    "str1 = \"Emma25 is Data scientist50 and AI Expert 10 !@#\"\n",
    "print(\"The original string is : \" + str1)\n",
    "\n",
    "res = []\n",
    "# split string on whitespace\n",
    "temp = str1.split()\n",
    "\n",
    "# Words with both alphabets and numbers\n",
    "# isdigit() for numbers + isalpha() for alphabets\n",
    "# use any() to check each character\n",
    "print(temp)\n",
    "for item in temp:\n",
    "    if any(char.isalpha() for char in item) and any(char.isdigit() for char in item):\n",
    "        print(item)\n",
    "        res.append(item)\n",
    "\n",
    "print(\"Displaying words with alphabets and numbers\")\n",
    "for i in res:\n",
    "    print(i)\n"
   ],
   "metadata": {
    "collapsed": false
   }
  },
  {
   "cell_type": "markdown",
   "source": [
    "Python Data Structure Exercise for Beginners"
   ],
   "metadata": {
    "collapsed": false
   }
  },
  {
   "cell_type": "markdown",
   "source": [
    "Exercise 18: Replace each special symbol with # in the following string"
   ],
   "metadata": {
    "collapsed": false
   }
  },
  {
   "cell_type": "code",
   "execution_count": 34,
   "outputs": [
    {
     "name": "stdout",
     "output_type": "stream",
     "text": [
      "['', '/', '*', 'J', 'o', 'n', ' ', 'i', 's', ' ', '@', 'd', 'e', 'v', 'e', 'l', 'o', 'p', 'e', 'r', ' ', '&', ' ', 'm', 'u', 's', 'i', 'c', 'i', 'a', 'n', '!', '!']\n",
      "###Jon is #developer # musician##\n"
     ]
    }
   ],
   "source": [
    "str1 = '/*Jon is @developer & musician!!'\n",
    "\n",
    "temp_list = ['']\n",
    "temp_list += str1\n",
    "print(temp_list)\n",
    "for position in range(len(temp_list)):\n",
    "    if not temp_list[position].isdigit() and not temp_list[position].isalpha() and not temp_list[position].isspace():\n",
    "        temp_list[position] = \"#\"\n",
    "print(\"\".join(temp_list))"
   ],
   "metadata": {
    "collapsed": false
   }
  },
  {
   "cell_type": "code",
   "execution_count": 35,
   "outputs": [
    {
     "name": "stdout",
     "output_type": "stream",
     "text": [
      "The original string is :  /*Jon is @developer & musician!!\n",
      "The strings after replacement :  ##Jon is #developer # musician##\n"
     ]
    }
   ],
   "source": [
    "import string\n",
    "\n",
    "str1 = '/*Jon is @developer & musician!!'\n",
    "print(\"The original string is : \", str1)\n",
    "\n",
    "# Replace punctuations with #\n",
    "replace_char = '#'\n",
    "\n",
    "# string.punctuation to get the list of all special symbols\n",
    "for char in string.punctuation:\n",
    "    str1 = str1.replace(char, replace_char)\n",
    "\n",
    "print(\"The strings after replacement : \", str1)\n",
    "o"
   ],
   "metadata": {
    "collapsed": false
   }
  }
 ],
 "metadata": {
  "kernelspec": {
   "display_name": "Python 3",
   "language": "python",
   "name": "python3"
  },
  "language_info": {
   "codemirror_mode": {
    "name": "ipython",
    "version": 2
   },
   "file_extension": ".py",
   "mimetype": "text/x-python",
   "name": "python",
   "nbconvert_exporter": "python",
   "pygments_lexer": "ipython2",
   "version": "2.7.6"
  }
 },
 "nbformat": 4,
 "nbformat_minor": 0
}
