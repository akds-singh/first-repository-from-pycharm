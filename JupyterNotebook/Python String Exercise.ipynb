{
 "cells": [
  {
   "cell_type": "markdown",
   "source": [
    "Exercise 1A: Create a string made of the first, middle and last character"
   ],
   "metadata": {
    "collapsed": false
   }
  },
  {
   "cell_type": "code",
   "execution_count": null,
   "metadata": {
    "collapsed": true
   },
   "outputs": [],
   "source": [
    "strs = \"James\"\n",
    "middle_index = int(len(strs)/2)\n",
    "print(middle_index)\n",
    "print(strs[0] + strs[middle_index] + strs[-1])"
   ]
  },
  {
   "cell_type": "markdown",
   "source": [
    "Exercise 1B: Create a string made of the middle three characters"
   ],
   "metadata": {
    "collapsed": false
   }
  },
  {
   "cell_type": "code",
   "execution_count": null,
   "outputs": [],
   "source": [
    "str1 = \"JhonDipPeta\"\n",
    "middle_index = int(len(str1)/2)\n",
    "print(middle_index)\n",
    "\n",
    "print(str1[middle_index-1] + str1[middle_index]+ str1[middle_index+1])\n",
    "print(str1[middle_index-1:middle_index+2])"
   ],
   "metadata": {
    "collapsed": false
   }
  },
  {
   "cell_type": "markdown",
   "source": [
    "Exercise 2: Append new string in the middle of a given string"
   ],
   "metadata": {
    "collapsed": false
   }
  },
  {
   "cell_type": "code",
   "execution_count": null,
   "outputs": [],
   "source": [],
   "metadata": {
    "collapsed": false
   }
  },
  {
   "cell_type": "code",
   "execution_count": null,
   "outputs": [],
   "source": [
    "s1 = \"Ault\"\n",
    "s2 = \"Kelly\"\n",
    "mi_s1 = int(len(s1)/2)\n",
    "# mi_s2 = int(len(s2))\n",
    "s3 = s1[:mi_s1] + s2 + s1[mi_s1:]\n",
    "\n",
    "print(s3)"
   ],
   "metadata": {
    "collapsed": false
   }
  },
  {
   "cell_type": "markdown",
   "source": [
    "Exercise 3: Create a new string made of the first, middle, and last characters of each input string"
   ],
   "metadata": {
    "collapsed": false
   }
  },
  {
   "cell_type": "code",
   "execution_count": null,
   "outputs": [],
   "source": [
    "def str_from_fml(s1 , s2):\n",
    "    mi_s1 = int(len(s1)/2)\n",
    "    mi_s2 = int(len(s2)/2)\n",
    "    print(len(s1))\n",
    "    s3 = s1[0] + s2[0] + s1[mi_s1]+ s2[mi_s2] + s1[-1] + s2[-1]\n",
    "    return s3\n",
    "\n",
    "str_from_fml(\"America\", \"Japan\")"
   ],
   "metadata": {
    "collapsed": false
   }
  },
  {
   "cell_type": "code",
   "execution_count": null,
   "outputs": [],
   "source": [
    "str3 = \"America\"\n",
    "print(str3[::])"
   ],
   "metadata": {
    "collapsed": false
   }
  },
  {
   "cell_type": "markdown",
   "source": [
    "Exercise 4: Arrange string characters such that lowercase letters should come first"
   ],
   "metadata": {
    "collapsed": false
   }
  },
  {
   "cell_type": "code",
   "execution_count": null,
   "outputs": [],
   "source": [
    "def str_start_with_lowercase(s1):\n",
    "    s1.isalnum\n",
    "\n"
   ],
   "metadata": {
    "collapsed": false
   }
  },
  {
   "cell_type": "code",
   "execution_count": null,
   "outputs": [],
   "source": [
    "str1 = \"PyNaTive\"\n",
    "\n",
    "print(str1.islower())\n",
    "str3 = \"\"\n",
    "str4 = \"\"\n",
    "for i in str1:\n",
    "    print(i)\n",
    "    if i.islower():\n",
    "        str3 += i\n",
    "    else:\n",
    "        str4 += i\n",
    "str5= str3 + str4\n",
    "res = \"\".join(str3 + str4)\n",
    "print(str5)\n",
    "print(res)\n"
   ],
   "metadata": {
    "collapsed": false
   }
  },
  {
   "cell_type": "markdown",
   "source": [
    "Exercise 5: Count all letters, digits, and special symbols from a given string"
   ],
   "metadata": {
    "collapsed": false
   }
  },
  {
   "cell_type": "code",
   "execution_count": null,
   "outputs": [],
   "source": [
    "str1 = \"P@#yn26at^&i5ve\"\n",
    "\n",
    "count_chars =0\n",
    "count_digits = 0\n",
    "count_symbols = 0\n",
    "\n",
    "for i in str1:\n",
    "    if i.isdigit():\n",
    "        count_digits +=1\n",
    "    elif i.isalpha():\n",
    "        count_chars +=1\n",
    "    else:\n",
    "        count_symbols +=1\n",
    "\n",
    "print(f\"Chars: {count_chars}\\nDigits: {count_digits}\\nSymbols: {count_symbols}\")"
   ],
   "metadata": {
    "collapsed": false
   }
  },
  {
   "cell_type": "markdown",
   "source": [
    "Exercise 6: Create a mixed String using the following rules"
   ],
   "metadata": {
    "collapsed": false
   }
  },
  {
   "cell_type": "code",
   "execution_count": null,
   "outputs": [],
   "source": [
    "s1 = \"Abc\"\n",
    "s2 = \"Xyz\"\n",
    "\n",
    "for i in s1:\n",
    "    for j in s2:\n"
   ],
   "metadata": {
    "collapsed": false
   }
  },
  {
   "cell_type": "code",
   "execution_count": 44,
   "outputs": [
    {
     "name": "stdout",
     "output_type": "stream",
     "text": [
      "3\n",
      "ajkaar\n",
      "This is our required string: ajkaarsh\n",
      "3\n",
      "sh\n"
     ]
    }
   ],
   "source": [
    "s1 = \"akash\"\n",
    "s2 = \"raj\"\n",
    "\n",
    "\n",
    "\n"
   ],
   "metadata": {
    "collapsed": false
   }
  },
  {
   "cell_type": "code",
   "execution_count": 35,
   "outputs": [
    {
     "data": {
      "text/plain": "'akash'"
     },
     "execution_count": 35,
     "metadata": {},
     "output_type": "execute_result"
    }
   ],
   "source": [
    "s1 = \"akash\"\n",
    "s2 = \"raj\"\n",
    "max(s1, s2 , key=len)"
   ],
   "metadata": {
    "collapsed": false
   }
  },
  {
   "cell_type": "code",
   "execution_count": null,
   "outputs": [],
   "source": [
    "# Adding first string to a list\n",
    "list_s1 =[]\n",
    "for letter in s1:\n",
    " list_s1 += letter\n",
    "\n",
    "\n",
    "# Adding second string to a list\n",
    "list_s2 = []\n",
    "for letter in s2:\n",
    "    list_s2 += letter\n",
    "\n",
    "\n",
    "\n",
    "\n",
    "increment = 0\n",
    "min_length = min(len(s1), len(s2))\n",
    "s1_index_value = []\n",
    "s2_index_value = []\n",
    "combine_strs = []\n",
    "\n",
    "# Fetching first letter from first string and last letter from second  string then combine them , and again fetching second letter from first string and second-last letter form second string then combine them and so on.\n",
    "for i in range(min_length):\n",
    "    s1_index_value = list_s1[0+increment]\n",
    "    s2_index_value = list_s2[-1-increment]\n",
    "    combine_strs += s1_index_value + s2_index_value\n",
    "    increment += 1\n",
    "# Finding out the largest string and fetch extra letters from it and then combine with above resulted combined string.\n",
    "print(increment)\n",
    "\n",
    "max_str = max(s1, s2, key=len)\n",
    "\n",
    "extra = max_str[increment:]\n",
    "combine = \"\".join(combine_strs) + extra\n",
    "# for letter in max_str:\n",
    "#     print(letter)\n",
    "#     extra_strs += max_str[increment]\n",
    "#     increment += 1\n",
    "\n",
    "print(\"\".join(combine_strs))\n",
    "print(f\"This is our required string: {combine}\")\n",
    "print(increment)\n",
    "print(extra)"
   ],
   "metadata": {
    "collapsed": false
   }
  },
  {
   "cell_type": "code",
   "execution_count": 51,
   "outputs": [
    {
     "name": "stdout",
     "output_type": "stream",
     "text": [
      "This is our required string: ajkaarsh\n"
     ]
    }
   ],
   "source": [
    "def combining_strs(s1 , s2):\n",
    "    # Adding first string to a list\n",
    "    list_s1 =[]\n",
    "    for letter in s1:\n",
    "        list_s1 += letter\n",
    "\n",
    "\n",
    "    # Adding second string to a list\n",
    "    list_s2 = []\n",
    "    for letter in s2:\n",
    "        list_s2 += letter\n",
    "\n",
    "\n",
    "\n",
    "\n",
    "    increment = 0\n",
    "    min_length = min(len(s1), len(s2))\n",
    "    s1_index_value = []\n",
    "    s2_index_value = []\n",
    "    combine_strs = []\n",
    "\n",
    "    # Fetching first letter from first string and last letter from second  string then combine them , and again fetching second letter from first string and second-last letter form second string then combine them and so on.\n",
    "    for i in range(min_length):\n",
    "        s1_index_value = list_s1[0+increment]\n",
    "        s2_index_value = list_s2[-1-increment]\n",
    "        combine_strs += s1_index_value + s2_index_value\n",
    "        increment += 1\n",
    "    # Finding out the largest string and fetch extra letters from it and then combine with above resulted combined string.\n",
    "    # print(increment)\n",
    "\n",
    "    max_str = max(s1, s2, key=len)\n",
    "\n",
    "    extra = max_str[increment:]\n",
    "    combine = \"\".join(combine_strs) + extra\n",
    "    # for letter in max_str:\n",
    "    #     print(letter)\n",
    "    #     extra_strs += max_str[increment]\n",
    "    #     increment += 1\n",
    "\n",
    "    # print(\"\".join(combine_strs))\n",
    "    print(f\"This is our required string: {combine}\")\n",
    "    # print(increment)\n",
    "    # print(extra)\n",
    "\n",
    "\n",
    "combining_strs(\"akash\", \"raj\")"
   ],
   "metadata": {
    "collapsed": false
   }
  },
  {
   "cell_type": "code",
   "execution_count": 49,
   "outputs": [
    {
     "ename": "NameError",
     "evalue": "name 'combining_strs' is not defined",
     "output_type": "error",
     "traceback": [
      "\u001B[1;31m---------------------------------------------------------------------------\u001B[0m",
      "\u001B[1;31mNameError\u001B[0m                                 Traceback (most recent call last)",
      "Cell \u001B[1;32mIn[49], line 1\u001B[0m\n\u001B[1;32m----> 1\u001B[0m \u001B[43mcombining_strs\u001B[49m(\u001B[38;5;124m\"\u001B[39m\u001B[38;5;124makash\u001B[39m\u001B[38;5;124m\"\u001B[39m, \u001B[38;5;124m\"\u001B[39m\u001B[38;5;124mraj\u001B[39m\u001B[38;5;124m\"\u001B[39m)\n",
      "\u001B[1;31mNameError\u001B[0m: name 'combining_strs' is not defined"
     ]
    }
   ],
   "source": [],
   "metadata": {
    "collapsed": false
   }
  }
 ],
 "metadata": {
  "kernelspec": {
   "display_name": "Python 3",
   "language": "python",
   "name": "python3"
  },
  "language_info": {
   "codemirror_mode": {
    "name": "ipython",
    "version": 2
   },
   "file_extension": ".py",
   "mimetype": "text/x-python",
   "name": "python",
   "nbconvert_exporter": "python",
   "pygments_lexer": "ipython2",
   "version": "2.7.6"
  }
 },
 "nbformat": 4,
 "nbformat_minor": 0
}
