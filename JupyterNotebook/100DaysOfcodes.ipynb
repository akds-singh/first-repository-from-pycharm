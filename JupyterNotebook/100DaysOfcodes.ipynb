{
 "cells": [
  {
   "cell_type": "markdown",
   "source": [
    "#1. Create a greeting for your program.\n",
    "\n",
    "#2. Ask the user for the city that they grew up in.\n",
    "\n",
    "#3. Ask the user for the name of a pet.\n",
    "\n",
    "#4. Combine the name of their city and pet and show them their band name.\n",
    "\n",
    "#5. Make sure the input cursor shows on a new line:\n",
    "\n",
    "# Solution: https://replit.com/@appbrewery/band-name-generator-end"
   ],
   "metadata": {
    "collapsed": false
   }
  },
  {
   "cell_type": "code",
   "execution_count": null,
   "outputs": [],
   "source": [],
   "metadata": {
    "collapsed": false
   }
  },
  {
   "cell_type": "code",
   "execution_count": null,
   "outputs": [],
   "source": [],
   "metadata": {
    "collapsed": false
   }
  },
  {
   "cell_type": "code",
   "execution_count": null,
   "outputs": [],
   "source": [
    "# project 1\n",
    "\n",
    "print(\"hello welcome to the Brand Making\")\n",
    "city_name = input(\"please Enter your city name:\\n\")\n",
    "pet_name = input(\"Please Enter your pet name:\")\n",
    "\n",
    "print(\"Here it's your brand name:\", city_name+pet_name)\n"
   ],
   "metadata": {
    "collapsed": false
   }
  },
  {
   "cell_type": "code",
   "execution_count": null,
   "outputs": [],
   "source": [
    "# accept input string from a user\n",
    "word = input('Enter word ')\n",
    "print(\"Original String:\", word)\n",
    "\n",
    "# get the length of a string\n",
    "size = len(word)\n",
    "\n",
    "# iterate a each character of a string\n",
    "# start: 0 to start with first character\n",
    "# stop: size-1 because index starts with 0\n",
    "# step: 2 to get the characters present at even index like 0, 2, 4\n",
    "print(\"Printing only even index chars\")\n",
    "for i in range(0, size - 1):\n",
    "    print(\"index[\", i, \"]\", word[i])"
   ],
   "metadata": {
    "collapsed": false
   }
  },
  {
   "cell_type": "code",
   "execution_count": null,
   "outputs": [],
   "source": [
    "# 🚨 Don't change the code below 👇\n",
    "age = input(\"What is your current age? \")\n",
    "# 🚨 Don't change the code above 👆\n",
    "\n",
    "#Write your code below this line 👇\n",
    "age = int(age)\n",
    "\n",
    "\n",
    "print(f\"Your have {(90-age) * 365} days, {int(((90-age) * 365) / 7)} weeks, and {int(((90-age) * 365) / 30)} months\")"
   ],
   "metadata": {
    "collapsed": false
   }
  },
  {
   "cell_type": "markdown",
   "source": [
    "#If the bill was $150.00, split between 5 people, with 12% tip.\n",
    "\n",
    "#Each person should pay (150.00 / 5) * 1.12 = 33.6\n",
    "#Format the result to 2 decimal places = 33.60\n",
    "\n",
    "#Tip: There are 2 ways to round a number. You might have to do some Googling to solve this.💪\n",
    "\n",
    "#Write your code below this line 👇\n"
   ],
   "metadata": {
    "collapsed": false
   }
  },
  {
   "cell_type": "code",
   "execution_count": null,
   "outputs": [],
   "source": [
    "print(\"Welcome to the tip calculator.\")\n",
    "\n",
    "bill_amount = float(input(\"What was the total bill? $\"))\n",
    "\n",
    "tip_percentage = int(input(\"What percentage tip would you like to give? 10, 12, or 15?\"))\n",
    "people_number = int(input(\"How many people to split the bill?\"))\n",
    "\n",
    "each_person_pay = (bill_amount - (tip_percentage/100) * bill_amount ) / people_number\n",
    "print(\"Each person should pay: $\", round(each_person_pay, 2))"
   ],
   "metadata": {
    "collapsed": false
   }
  },
  {
   "cell_type": "code",
   "execution_count": null,
   "outputs": [],
   "source": [
    "from graphviz import Digraph\n",
    "\n",
    "dot = Digraph()\n",
    "dot.attr(rankdir='LR', size='8,5')\n",
    "\n",
    "dot.node('A', 'Start')\n",
    "dot.node('B', 'Process 1')\n",
    "dot.node('C', 'Process 2')\n",
    "dot.node('D', 'End')\n",
    "\n",
    "dot.edges(['AB', 'BC', 'CD'])\n",
    "\n",
    "dot.render('flowchart', view=True)"
   ],
   "metadata": {
    "collapsed": false
   }
  },
  {
   "cell_type": "code",
   "execution_count": null,
   "outputs": [],
   "source": [
    "import random\n",
    "int_random = random.uniform(5,1)\n",
    "print(int_random)"
   ],
   "metadata": {
    "collapsed": false
   }
  },
  {
   "cell_type": "code",
   "execution_count": null,
   "outputs": [],
   "source": [
    "import random\n",
    "\n",
    "print('Random number from 0 to 1 :', random.random())\n",
    "print('Uniform Distribution between [1,5] :', random.uniform(1, 5))\n",
    "print('Gaussian Distribution with mean = 0 and standard deviation = 1 :', random.gauss(0, 1))\n",
    "print('Exponential Distribution with lambda = 0.1 :', random.expovariate(0.1))\n",
    "print('Normal Distribution with mean = 1 and standard deviation = 2:', random.normalvariate(1, 5))\n"
   ],
   "metadata": {
    "collapsed": false
   }
  },
  {
   "cell_type": "code",
   "execution_count": null,
   "outputs": [],
   "source": [
    "import random\n",
    "\n",
    "sequence = [random.randint(0, i) for i in range(10)]\n",
    "\n",
    "print('Before shuffling', sequence)\n",
    "\n",
    "random.shuffle(sequence)\n",
    "\n",
    "print('After shuffling', sequence)"
   ],
   "metadata": {
    "collapsed": false
   }
  },
  {
   "cell_type": "code",
   "execution_count": null,
   "outputs": [],
   "source": [
    "import random\n",
    "\n",
    "a = ['one', 'eleven', 'twelve', 'five', 'six', 'ten']\n",
    "\n",
    "print(a)\n",
    "\n",
    "for i in range(5):\n",
    "    print(random.choice(a))"
   ],
   "metadata": {
    "collapsed": false
   }
  },
  {
   "cell_type": "code",
   "execution_count": null,
   "outputs": [],
   "source": [
    "import random\n",
    "\n",
    "a = ['one', 'eleven', 'twelve', 'five', 'six', 'ten']\n",
    "\n",
    "print(a)\n",
    "\n",
    "for i in range(3):\n",
    "    b = random.sample(a, 2)\n",
    "    print('random sample:', b)"
   ],
   "metadata": {
    "collapsed": false
   }
  },
  {
   "cell_type": "markdown",
   "source": [],
   "metadata": {
    "collapsed": false
   }
  },
  {
   "cell_type": "code",
   "execution_count": null,
   "outputs": [],
   "source": [
    "import random\n",
    "\n",
    "random.seed(1)\n",
    "\n",
    "print('Generating a random sequence of 4 numbers...')\n",
    "print([random.randint(1, 100) for i in range(5)])\n",
    "\n",
    "# Reset the seed to 1 again\n",
    "random.seed(1)\n",
    "\n",
    "# We now get the same sequence\n",
    "print([random.randint(1, 100) for i in range(5)])"
   ],
   "metadata": {
    "collapsed": false
   }
  },
  {
   "cell_type": "code",
   "execution_count": null,
   "outputs": [],
   "source": [
    "import random\n",
    "random_decimal_num = random.uniform(0,5)\n",
    "random_num = random.random()*5\n",
    "\n",
    "print(random_decimal_num)\n",
    "print(random_num)"
   ],
   "metadata": {
    "collapsed": false
   }
  },
  {
   "cell_type": "code",
   "execution_count": null,
   "outputs": [],
   "source": [
    "my_list = [\"akash\", \"deep\", \"singh\",]\n",
    "\n",
    "my_list.append(\"9835\")\n",
    "my_list[len(my_list):] = [\"singh\"]\n",
    "print(len(my_list))\n",
    "print(my_list)\n",
    "my_list[0:1] = [\"akds.rajput\", \"sanam\"]\n",
    "print(len(my_list ))\n",
    "print(my_list)\n",
    "my_list[len(my_list):] = [\"test\"]\n",
    "print(my_list[1:2])\n",
    "print(my_list)\n",
    "my_list.insert(1, \"insert_test\")\n",
    "my_list.insert(1, \"singh\")\n",
    "print(my_list)\n",
    "my_list.remove(\"insert_test\")\n",
    "print(my_list)\n",
    "my_list.pop()\n",
    "print(my_list)\n",
    "print(my_list.index(\"singh\"))\n",
    "my_list\n",
    "print(my_list.count(\"singh\"))\n",
    "my_list.sort()\n",
    "print(my_list)\n"
   ],
   "metadata": {
    "collapsed": false
   }
  },
  {
   "cell_type": "code",
   "execution_count": null,
   "outputs": [],
   "source": [
    "fruits = [\"Strawberries\", \"Nectarines\", \"Apples\", \"Grapes\", \"Peaches\", \"Cherries\", \"Pears\"]\n",
    "vegetables = [\"Spinach\", \"Kale\", \"Tomatoes\", \"Celery\", \"Potatoes\"]\n",
    "dirty_dozen = [fruits, vegetables]\n",
    "print(dirty_dozen)"
   ],
   "metadata": {
    "collapsed": false
   }
  },
  {
   "cell_type": "code",
   "execution_count": null,
   "outputs": [],
   "source": [],
   "metadata": {
    "collapsed": false
   }
  },
  {
   "cell_type": "markdown",
   "source": [
    "Rock , paper , Sciccors game:"
   ],
   "metadata": {
    "collapsed": false
   }
  },
  {
   "cell_type": "code",
   "execution_count": null,
   "outputs": [],
   "source": [
    "rock = '''\n",
    "    _______\n",
    "---'   ____)\n",
    "      (_____)\n",
    "      (_____)\n",
    "      (____)\n",
    "---.__(___)\n",
    "'''\n",
    "\n",
    "paper = '''\n",
    "    _______\n",
    "---'   ____)____\n",
    "          ______)\n",
    "          _______)\n",
    "         _______)\n",
    "---.__________)\n",
    "'''\n",
    "\n",
    "scissors = '''\n",
    "    _______\n",
    "---'   ____)____\n",
    "          ______)\n",
    "       __________)\n",
    "      (____)\n",
    "---.__(___)\n",
    "'''\n",
    "\n",
    "#Write your code below this line 👇\n",
    "import random\n",
    "\n",
    "l1 = [rock, paper, scissors]\n",
    "your_choice = int(input(\"What do you choose? 0 for rock, 1 for paper, 2 for scissors: \"))\n",
    "com_choice = random.choice(l1)\n",
    "\n",
    "try:\n",
    "  if l1[your_choice]==l1[0] and com_choice == l1[2]:\n",
    "    print(f\" {l1[your_choice]}\\n Computer chose:\\n {com_choice} \\n You win\")\n",
    "  elif l1[your_choice]==l1[2] and com_choice == l1[1]:\n",
    "    print(f\" {l1[your_choice]}\\n Computer chose:\\n {com_choice} \\n You win\")\n",
    "  elif l1[your_choice]==l1[1] and com_choice == l1[0]:\n",
    "    print(f\" {l1[your_choice]}\\n Computer chose:\\n {com_choice} \\n You win\")\n",
    "  elif l1[your_choice] == com_choice:\n",
    "    print(f\" {l1[your_choice]}\\n Computer chose:\\n {com_choice} \\n Try again\")\n",
    "  else:\n",
    "    print(f\" {l1[your_choice]}\\n Computer chose:\\n {com_choice} \\n You lose\")\n",
    "\n",
    "except:\n",
    "  print(\"Invalid You lose!\")"
   ],
   "metadata": {
    "collapsed": false
   }
  },
  {
   "cell_type": "code",
   "execution_count": 21,
   "outputs": [
    {
     "ename": "SyntaxError",
     "evalue": "invalid syntax (344212430.py, line 12)",
     "output_type": "error",
     "traceback": [
      "\u001B[1;36m  Cell \u001B[1;32mIn[21], line 12\u001B[1;36m\u001B[0m\n\u001B[1;33m    i++\u001B[0m\n\u001B[1;37m       ^\u001B[0m\n\u001B[1;31mSyntaxError\u001B[0m\u001B[1;31m:\u001B[0m invalid syntax\n"
     ]
    }
   ],
   "source": [
    "l2 = [\"a\", \"b\", \"c\", \"d\", \"e\", \"f\" ]\n",
    "c = 2\n",
    "for i in range(0, 10, c+1):\n",
    "    print(\"Intial_i:\", i , end=\"\\n\")\n",
    "    for j in range(1, 10):\n",
    "        print(\"intial_J:\", j, end=\" \")\n",
    "\n",
    "        if i == \"c\":\n",
    "\n",
    "            break\n",
    "        else:\n",
    "\n",
    "            continue\n",
    "        print(\"final_J:\", j)\n",
    "    print(\"Final_i:\", i)"
   ],
   "metadata": {
    "collapsed": false
   }
  },
  {
   "cell_type": "code",
   "execution_count": 30,
   "outputs": [
    {
     "name": "stdout",
     "output_type": "stream",
     "text": [
      "[50, 65, 89, 86, 55, 91, 64, 91]\n",
      "largest number: 91\n"
     ]
    }
   ],
   "source": [
    "# 🚨 Don't change the code below 👇\n",
    "student_scores = input(\"Input a list of student scores \").split()\n",
    "for n in range(0, len(student_scores)):\n",
    "  student_scores[n] = int(student_scores[n])\n",
    "print(student_scores)\n",
    "# 🚨 Don't change the code above 👆\n",
    "\n",
    "#Write your code below this row 👇\n",
    "i = 0\n",
    "while i < len(student_scores):\n",
    "    for j in range(i+1, len(student_scores)):\n",
    "\n",
    "        if student_scores[i] > student_scores[j]:\n",
    "            continue\n",
    "\n",
    "        else:\n",
    "            i = j\n",
    "\n",
    "    print(\"largest number:\", student_scores[i])\n",
    "\n",
    "    break\n",
    "\n",
    "\n"
   ],
   "metadata": {
    "collapsed": false
   }
  },
  {
   "cell_type": "code",
   "execution_count": 32,
   "outputs": [
    {
     "name": "stdout",
     "output_type": "stream",
     "text": [
      "[50, 65, 89, 86, 55, 91, 64, 500]\n",
      "largest number: 500\n"
     ]
    }
   ],
   "source": [
    "# 🚨 Don't change the code below 👇\n",
    "student_scores = input(\"Input a list of student scores \").split()\n",
    "for n in range(0, len(student_scores)):\n",
    "  student_scores[n] = int(student_scores[n])\n",
    "print(student_scores)\n",
    "# 🚨 Don't change the code above 👆\n",
    "\n",
    "#Write your code below this row 👇\n",
    "i = 0\n",
    "for i in  range(i , len(student_scores)):\n",
    "    for j in range(i+1, len(student_scores)):\n",
    "\n",
    "        if student_scores[i] > student_scores[j]:\n",
    "            continue\n",
    "\n",
    "        else:\n",
    "            i = j\n",
    "\n",
    "    print(\"largest number:\", student_scores[i])\n",
    "\n",
    "    break\n",
    "\n",
    "\n"
   ],
   "metadata": {
    "collapsed": false
   }
  },
  {
   "cell_type": "code",
   "execution_count": 20,
   "outputs": [
    {
     "name": "stdout",
     "output_type": "stream",
     "text": [
      "<class 'list'>\n",
      "<class 'str'>\n",
      "[50, 65, 89, 86, 55, 91, 64, 500]\n",
      "50, 65, 89, 86, 55, 91, 64, 500\n",
      "[50, 65, 89, 86, 55, 91, 64, 500]\n"
     ]
    }
   ],
   "source": [
    "l3 = [50, 65, 89, 86, 55, 91, 64, 500]\n",
    "print(type(l3))\n",
    "s = str(l3)\n",
    "print(type(s))\n",
    "print(s)\n",
    "s1 = s.strip(\"[]\")\n",
    "print(s1)\n",
    "l4 = []\n",
    "l4.extend(l3)\n",
    "print(l4)"
   ],
   "metadata": {
    "collapsed": false
   }
  },
  {
   "cell_type": "code",
   "execution_count": null,
   "outputs": [],
   "source": [
    "#Password Generator Project\n",
    "import random\n",
    "letters = ['a', 'b', 'c', 'd', 'e', 'f', 'g', 'h', 'i', 'j', 'k', 'l', 'm', 'n', 'o', 'p', 'q', 'r', 's', 't', 'u', 'v', 'w', 'x', 'y', 'z', 'A', 'B', 'C', 'D', 'E', 'F', 'G', 'H', 'I', 'J', 'K', 'L', 'M', 'N', 'O', 'P', 'Q', 'R', 'S', 'T', 'U', 'V', 'W', 'X', 'Y', 'Z']\n",
    "numbers = ['0', '1', '2', '3', '4', '5', '6', '7', '8', '9']\n",
    "symbols = ['!', '#', '$', '%', '&', '(', ')', '*', '+']\n",
    "\n",
    "print(\"Welcome to the PyPassword Generator!\")\n",
    "nr_letters= int(input(\"How many letters would you like in your password?\\n\"))\n",
    "nr_symbols = int(input(f\"How many symbols would you like?\\n\"))\n",
    "nr_numbers = int(input(f\"How many numbers would you like?\\n\"))\n",
    "\n",
    "#Eazy Level - Order not randomised:\n",
    "#e.g. 4 letter, 2 symbol, 2 number = JduE&!91\n",
    "\n",
    "\n",
    "#Hard Level - Order of characters randomised:\n",
    "#e.g. 4 letter, 2 symbol, 2 number = g^2jk8&P\n",
    "result_list =[]\n",
    "\n",
    "# Creating random numbers of letters , symbolsm, numbers with given numbrers-of\n",
    "rand_letters = random.sample(letters, nr_letters)\n",
    "print(rand_letters)\n",
    "rand_symbols = random.sample(symbols, nr_symbols)\n",
    "print(rand_symbols)\n",
    "rand_numbers = random.sample(numbers, nr_numbers)\n",
    "print(rand_numbers)\n",
    "\n",
    "#adding or extending above random list to new 'result_list'\n",
    "result_list.extend(rand_symbols)\n",
    "result_list.extend(rand_letters)\n",
    "result_list.extend(rand_numbers)\n",
    "print(result_list)\n",
    "\n",
    "# creating a password list where all our randoms value will present:\n",
    "password_list = random.sample(result_list, len(result_list))\n",
    "print(password_list)\n",
    "\n",
    "# concatinating the password_list to form a string and give output\n",
    "password =\"\"\n",
    "for i in password_list:\n",
    "  password += i\n",
    "print(\"Your password is:\", password)"
   ],
   "metadata": {
    "collapsed": false
   }
  }
 ],
 "metadata": {
  "kernelspec": {
   "display_name": "Python 3",
   "language": "python",
   "name": "python3"
  },
  "language_info": {
   "codemirror_mode": {
    "name": "ipython",
    "version": 2
   },
   "file_extension": ".py",
   "mimetype": "text/x-python",
   "name": "python",
   "nbconvert_exporter": "python",
   "pygments_lexer": "ipython2",
   "version": "2.7.6"
  }
 },
 "nbformat": 4,
 "nbformat_minor": 0
}
