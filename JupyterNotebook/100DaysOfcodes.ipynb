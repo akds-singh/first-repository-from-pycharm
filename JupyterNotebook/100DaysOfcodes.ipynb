{
 "cells": [
  {
   "cell_type": "markdown",
   "source": [
    "#1. Create a greeting for your program.\n",
    "\n",
    "#2. Ask the user for the city that they grew up in.\n",
    "\n",
    "#3. Ask the user for the name of a pet.\n",
    "\n",
    "#4. Combine the name of their city and pet and show them their band name.\n",
    "\n",
    "#5. Make sure the input cursor shows on a new line:\n",
    "\n",
    "# Solution: https://replit.com/@appbrewery/band-name-generator-end"
   ],
   "metadata": {
    "collapsed": false
   }
  },
  {
   "cell_type": "code",
   "execution_count": null,
   "outputs": [],
   "source": [],
   "metadata": {
    "collapsed": false
   }
  },
  {
   "cell_type": "code",
   "execution_count": null,
   "outputs": [],
   "source": [
    "# project 1\n",
    "\n",
    "print(\"hello welcome to the Brand Making\")\n",
    "city_name = input(\"please Enter your city name:\\n\")\n",
    "pet_name = input(\"Please Enter your pet name:\")\n",
    "\n",
    "print(\"Here it's your brand name:\", city_name+pet_name)\n"
   ],
   "metadata": {
    "collapsed": false
   }
  },
  {
   "cell_type": "code",
   "execution_count": 6,
   "outputs": [
    {
     "name": "stdout",
     "output_type": "stream",
     "text": [
      "Original String: hbmhbm\n",
      "Printing only even index chars\n",
      "index[ 0 ] h\n",
      "index[ 1 ] b\n",
      "index[ 2 ] m\n",
      "index[ 3 ] h\n",
      "index[ 4 ] b\n"
     ]
    }
   ],
   "source": [
    "# accept input string from a user\n",
    "word = input('Enter word ')\n",
    "print(\"Original String:\", word)\n",
    "\n",
    "# get the length of a string\n",
    "size = len(word)\n",
    "\n",
    "# iterate a each character of a string\n",
    "# start: 0 to start with first character\n",
    "# stop: size-1 because index starts with 0\n",
    "# step: 2 to get the characters present at even index like 0, 2, 4\n",
    "print(\"Printing only even index chars\")\n",
    "for i in range(0, size - 1):\n",
    "    print(\"index[\", i, \"]\", word[i])"
   ],
   "metadata": {
    "collapsed": false
   }
  },
  {
   "cell_type": "code",
   "execution_count": null,
   "outputs": [],
   "source": [],
   "metadata": {
    "collapsed": false
   }
  }
 ],
 "metadata": {
  "kernelspec": {
   "display_name": "Python 3",
   "language": "python",
   "name": "python3"
  },
  "language_info": {
   "codemirror_mode": {
    "name": "ipython",
    "version": 2
   },
   "file_extension": ".py",
   "mimetype": "text/x-python",
   "name": "python",
   "nbconvert_exporter": "python",
   "pygments_lexer": "ipython2",
   "version": "2.7.6"
  }
 },
 "nbformat": 4,
 "nbformat_minor": 0
}
