{
 "cells": [
  {
   "cell_type": "code",
   "execution_count": null,
   "metadata": {
    "collapsed": true
   },
   "outputs": [],
   "source": [
    "user_list = [{\"a\":500, \"b\":2}, {\"a\":299, \"name\": \"akash\", \"email\": \"akasky9835@gmail.com\"}]\n",
    "for index in user_list:\n",
    "    print(index[\"a\"])"
   ]
  },
  {
   "cell_type": "code",
   "execution_count": null,
   "outputs": [],
   "source": [
    "user_dict = {\"a\":299, \"name\": \"akash\", \"email\": \"akasky9835@gmail.com\"}\n",
    "for index in user_dict:\n",
    "    print(user_dict[index])"
   ],
   "metadata": {
    "collapsed": false
   }
  },
  {
   "cell_type": "code",
   "execution_count": null,
   "outputs": [],
   "source": [
    "import requests\n",
    "response = requests.get(\"https://gitlab.com/api/v4/users/nanuchi/projects\")\n",
    "\n",
    "list_response = response.json()\n",
    "\n",
    "for list_index in list_response:\n",
    "    print(list_index)\n",
    "    for dict_index in list_index:\n",
    "        print(list_index[dict_index])"
   ],
   "metadata": {
    "collapsed": false
   }
  },
  {
   "cell_type": "code",
   "execution_count": 10,
   "outputs": [
    {
     "name": "stdout",
     "output_type": "stream",
     "text": [
      "What is my name \n",
      " \"+\" fjdslfk \n",
      "\n"
     ]
    }
   ],
   "source": [
    "print('What is my name '\"\\n\"' \"+\" fjdslfk \\n')"
   ],
   "metadata": {
    "collapsed": false
   }
  },
  {
   "cell_type": "code",
   "execution_count": 12,
   "outputs": [
    {
     "name": "stdout",
     "output_type": "stream",
     "text": [
      "name is akash deep singh\n"
     ]
    }
   ],
   "source": [
    "a = \"akash\"\n",
    "print(\"name is \"+ a +\" deep singh\")"
   ],
   "metadata": {
    "collapsed": false
   }
  }
 ],
 "metadata": {
  "kernelspec": {
   "display_name": "Python 3",
   "language": "python",
   "name": "python3"
  },
  "language_info": {
   "codemirror_mode": {
    "name": "ipython",
    "version": 2
   },
   "file_extension": ".py",
   "mimetype": "text/x-python",
   "name": "python",
   "nbconvert_exporter": "python",
   "pygments_lexer": "ipython2",
   "version": "2.7.6"
  }
 },
 "nbformat": 4,
 "nbformat_minor": 0
}
